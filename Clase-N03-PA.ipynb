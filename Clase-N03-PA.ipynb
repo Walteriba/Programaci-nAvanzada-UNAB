{
 "cells": [
  {
   "cell_type": "markdown",
   "id": "4e4739bc-769f-43f2-89f5-60b03d7c68ec",
   "metadata": {},
   "source": [
    "# Practica POO "
   ]
  },
  {
   "cell_type": "markdown",
   "id": "81d5ea97-f23a-4f2b-8bab-367c6236df03",
   "metadata": {},
   "source": [
    "<h1 style=\"color:blue\">Herencia multiple</h1>\n",
    "\n",
    "Hasta ahora hemos trabajado con herencia simple. Donde una clase hija hereda de una sola clase madre. Pero python soporta herencia multiple, vemos como se implementa.  \n",
    "Reconstruyamos todas las clases con las que hemos trabajado.  "
   ]
  },
  {
   "cell_type": "code",
   "execution_count": 1,
   "id": "d48cf876-b213-4931-91f8-c2f90ce43145",
   "metadata": {},
   "outputs": [],
   "source": [
    "class Personaje:\n",
    "    \"\"\" Clase para un personaje generico de un juego\"\"\"\n",
    "\n",
    "    # Metodo constructor\n",
    "    def __init__(self, nombre=\"Ninguno\", fuerza=10, inteligencia=5,\n",
    "                 defensa=10, vida=100):\n",
    "        # Atributos de la clase\n",
    "        self.nombre = nombre\n",
    "        self.fuerza = fuerza\n",
    "        self.inteligencia = inteligencia\n",
    "        self.defensa = defensa\n",
    "        self.vida = vida\n",
    "        # Este es un atibuto calculado\n",
    "        self.aguante = fuerza * vida\n",
    "\n",
    "    # Metodo que informa el estado del objeto\n",
    "    def atributos(self):\n",
    "        print(self.nombre, \":\", sep=\"\")\n",
    "        print(\"Fuerza:\", self.fuerza)\n",
    "        print(\"Inteligencia:\", self.inteligencia)\n",
    "        print(\"Defensa:\", self.defensa)\n",
    "        print(\"Vida:\", self.vida)\n",
    "        print(\"Aguante:\", self.aguante)\n",
    "\n",
    "    # Metodo que incrementa valores de atributos al subir de nivel\n",
    "    def subir_nivel(self, incr_fuerza, incr_inteligencia, incr_defensa):\n",
    "        self.fuerza += incr_fuerza\n",
    "        self.inteligencia += incr_inteligencia\n",
    "        self.defensa += incr_defensa\n",
    "\n",
    "    # Metodo que informa si la vida es mayor que cero\n",
    "    def esta_vivo(self):\n",
    "        return self.vida > 0\n",
    "\n",
    "    # Metodo para matar al personaje dejando la vida en cero\n",
    "    def morir(self):\n",
    "        self.vida = 0\n",
    "        print(self.nombre, \"ha muerto!\")\n",
    "\n",
    "    # Metodo que informa del daño ocasionado al enemigo\n",
    "    # El enemigo resiste con su *defensa* al ataque que hacemos con nuestra *fuerza*\n",
    "    def danio(self, enemigo):\n",
    "        return self.fuerza - enemigo.defensa\n",
    "\n",
    "    # Metodo para atacar al enemigo quitandole vida\n",
    "    def atacar(self, enemigo):\n",
    "        # calculamos el daño\n",
    "        inflijido = self.danio(enemigo)\n",
    "        # se lo restamos a la vida del enemigo e informamos\n",
    "        enemigo.vida -= inflijido\n",
    "        print(self.nombre, \"le quito\", inflijido, \"puntos de vida a\", enemigo.nombre)\n",
    "        # Veamos si el enemigo sigue vivo despues del ataque\n",
    "        if enemigo.esta_vivo():\n",
    "            print(\"La vida de\", enemigo.nombre, \"es de\", enemigo.vida, \"puntos\")\n",
    "        else:\n",
    "            enemigo.morir()"
   ]
  },
  {
   "cell_type": "markdown",
   "id": "21504a1f-e830-4857-857b-4955b9bd9e90",
   "metadata": {},
   "source": [
    "Y de la clase **Personaje** *descendemos* (nunca supe si ese era el termino correcto desde el lado de los heredados...) las clases **Guerrero** y **Mago**"
   ]
  },
  {
   "cell_type": "code",
   "execution_count": 2,
   "id": "0f85c665-eb72-435a-a35a-4fcf21f8f5c0",
   "metadata": {},
   "outputs": [],
   "source": [
    "class Guerrero(Personaje):\n",
    "    \"\"\" Clase para los guerreros\"\"\"\n",
    "\n",
    "    def __init__(self, nombre, fuerza, inteligencia, defensa, vida, espada):\n",
    "        super.__init__(self, nombre, fuerza, inteligencia, defensa, vida)\n",
    "        self.espada = espada\n",
    "\n",
    "    def atributos(self):\n",
    "        super().atributos()\n",
    "        print(\"Espada:\", self.espada)\n",
    "\n",
    "    # metodo para cambiar la espada\n",
    "    def cambiar_arma(self):\n",
    "        # Mostramos un mensaje, capturamos la respuesta, lo pasamos a entero y guardamos\n",
    "        eleccion = int(input(\"Elige el arma: [1] Acero, daño 8. [2] Matadragones, daño 10\"))\n",
    "        # Veamos que eligio\n",
    "        if eleccion == 1:\n",
    "            self.espada = 8\n",
    "        elif eleccion == 2:\n",
    "            self.espada = 10\n",
    "        else:\n",
    "            print(\"Debe elegir 1 o 2\")\n",
    "\n",
    "    # Reescritura danio\n",
    "    def danio(self, enemigo):\n",
    "        # Multiplica la fuerza por el poder de la espada y le resta la defensa del enemigo\n",
    "        return self.fuerza * self.espada - enemigo.defensa"
   ]
  },
  {
   "cell_type": "code",
   "execution_count": 3,
   "id": "3feed707-03b7-44dd-b0cb-156737ba69dc",
   "metadata": {},
   "outputs": [],
   "source": [
    "# Como antes hereda de Personaje\n",
    "class Mago(Personaje):\n",
    "    \"\"\" Clase para los magos \"\"\"\n",
    "\n",
    "    # Ahora en vez de poder d eespada tiene poder de libro de magia\n",
    "    def __init__(self, nombre, fuerza, inteligencia, defensa, vida, libro):\n",
    "        super().__init__(nombre, fuerza, inteligencia, defensa, vida)\n",
    "        self.libro = libro\n",
    "\n",
    "    # ampliamos atributos\n",
    "    def atributos(self):\n",
    "        super().atributos()\n",
    "        print(\"Libro:\", self.libro)\n",
    "\n",
    "    # Y calculamos el nuevo daño\n",
    "    def danio(self, enemigo):\n",
    "        # ahora multiplicamos inteligencia por libro y restamos a defensa del enemigo\n",
    "        return self.inteligencia * self.libro - enemigo.defensa"
   ]
  },
  {
   "cell_type": "markdown",
   "id": "c54dd1a0-90f3-4fe9-a1d8-130eb7f9c0a9",
   "metadata": {},
   "source": [
    "En nuestro juego ahora incorporamos un nuevo personaje que es el **Paladin** que es tanto guerrero como Mago.  \n",
    "Por lo tanto, hereda de estos dos.  "
   ]
  },
  {
   "cell_type": "code",
   "execution_count": 4,
   "id": "e957b38b-9313-4c96-b42c-a5b68ac03c77",
   "metadata": {},
   "outputs": [],
   "source": [
    "# Creamos nuestra nueva clase con herencia multiple\n",
    "# Vease la notacion\n",
    "class Paladin(Guerrero, Mago):\n",
    "    \"\"\" Clase para un personaje con herencia multiple\"\"\"\n",
    "    pass"
   ]
  },
  {
   "cell_type": "code",
   "execution_count": 5,
   "id": "be3a4c7e-1d4b-4c12-a2a8-854d23033649",
   "metadata": {},
   "outputs": [
    {
     "ename": "TypeError",
     "evalue": "Guerrero.__init__() takes 7 positional arguments but 8 were given",
     "output_type": "error",
     "traceback": [
      "\u001b[0;31m---------------------------------------------------------------------------\u001b[0m",
      "\u001b[0;31mTypeError\u001b[0m                                 Traceback (most recent call last)",
      "Cell \u001b[0;32mIn[5], line 2\u001b[0m\n\u001b[1;32m      1\u001b[0m \u001b[38;5;66;03m# Y ahora instanciamos un paladin\u001b[39;00m\n\u001b[0;32m----> 2\u001b[0m sedona \u001b[38;5;241m=\u001b[39m Paladin(\u001b[38;5;124m\"\u001b[39m\u001b[38;5;124mSedona\u001b[39m\u001b[38;5;124m\"\u001b[39m, \u001b[38;5;241m20\u001b[39m, \u001b[38;5;241m15\u001b[39m, \u001b[38;5;241m10\u001b[39m, \u001b[38;5;241m100\u001b[39m, \u001b[38;5;241m5\u001b[39m, \u001b[38;5;241m5\u001b[39m)\n\u001b[1;32m      4\u001b[0m \u001b[38;5;66;03m# Veamos sus atributos\u001b[39;00m\n\u001b[1;32m      5\u001b[0m sedona\u001b[38;5;241m.\u001b[39matributos()\n",
      "\u001b[0;31mTypeError\u001b[0m: Guerrero.__init__() takes 7 positional arguments but 8 were given"
     ]
    }
   ],
   "source": [
    "# Y ahora instanciamos un paladin\n",
    "sedona = Paladin(\"Sedona\", 20, 15, 10, 100, 5, 5)\n",
    "\n",
    "# Veamos sus atributos\n",
    "sedona.atributos()"
   ]
  },
  {
   "cell_type": "markdown",
   "id": "eefaf164-bc7d-4c49-952b-fa6ad7f2604a",
   "metadata": {},
   "source": [
    "Todo mal!!!  \n",
    "Esto es porque en el caso de una herencia multiple, y sin sobre-escribir los metodos (lo que hicimos aqui...) se ejecutan los **\\_\\_init\\_\\_** de las DOS clases padres.  \n",
    "Python tiene un estandar que se llama **MRO (Method Resolution Order)** que especifica el orden en que se van a ejecutar los metodos de una clase. En este caso primero ve que no hay un metodo **\\_\\_init\\_\\_ explicito** en **Paladin** y encuentra dos de ellos, cada uno en las clases padres.  \n",
    "Por lo tanto los ejecuta en el orden en el que han sido llamadas en la definicion de la clase **Paladin**  \n",
    "Es decir, primero **Guerrero.\\_\\_init\\_\\_()** y luego **Mago.\\_\\_init\\_\\_()**  \n",
    "Esto agota los argumentos pasados y nos deja a *libro* sin argumento.  \n",
    "Es por eso que SIEMPRE en herencia multiple se debe definir un metodo **\\_\\_init\\_\\_** (O esperar a que una de las clases padres no lo tenga en su definicion)  \n",
    "Vamos entonces a realizar esta tarea, pero antes recordemos que hemos usado al metodo **super()** para ejecutar el constructor de la clase padre en herencia simple. \n",
    "Bien, si se puede emplear para llamar a los metodos de la clase padre que primero esta referida en los argumentos de la clase hija, su utilizacion no esta fomentada. \n",
    "Queda mas clara la lectura de la construccion de las clases si usamos **explicitamente** el nombre de las clases padres.  \n",
    "Esto complica futuras modificaciones del codigo al reemplazar clases padres...  "
   ]
  },
  {
   "cell_type": "code",
   "execution_count": 6,
   "id": "780e4758-549e-4187-900f-d43378113078",
   "metadata": {},
   "outputs": [
    {
     "name": "stdout",
     "output_type": "stream",
     "text": [
      "Sedona:\n",
      "Fuerza: 20\n",
      "Inteligencia: 15\n",
      "Defensa: 10\n",
      "Vida: 100\n",
      "Aguante: 2000\n",
      "Libro: 5\n",
      "Espada: 5\n"
     ]
    }
   ],
   "source": [
    "# Reconstruimos todo el codigo en un solo bloque\n",
    "class Personaje:\n",
    "    \"\"\" Clase para un personaje generico de un juego\"\"\"\n",
    "\n",
    "    # Metodo constructor\n",
    "    def __init__(self, nombre=\"Ninguno\", fuerza=10, inteligencia=5,\n",
    "                 defensa=10, vida=100):\n",
    "        # Atributos de la clase\n",
    "        self.nombre = nombre\n",
    "        self.fuerza = fuerza\n",
    "        self.inteligencia = inteligencia\n",
    "        self.defensa = defensa\n",
    "        self.vida = vida\n",
    "        # Este es un atibuto calculado\n",
    "        self.aguante = fuerza * vida\n",
    "\n",
    "    # Metodo que informa el estado del objeto\n",
    "    def atributos(self):\n",
    "        print(self.nombre, \":\", sep=\"\")\n",
    "        print(\"Fuerza:\", self.fuerza)\n",
    "        print(\"Inteligencia:\", self.inteligencia)\n",
    "        print(\"Defensa:\", self.defensa)\n",
    "        print(\"Vida:\", self.vida)\n",
    "        print(\"Aguante:\", self.aguante)\n",
    "\n",
    "    # Metodo que incrementa valores de atributos al subir de nivel\n",
    "    def subir_nivel(self, incr_fuerza, incr_inteligencia, incr_defensa):\n",
    "        self.fuerza += incr_fuerza\n",
    "        self.inteligencia += incr_inteligencia\n",
    "        self.defensa += incr_defensa\n",
    "\n",
    "    # Metodo que informa si la vida es mayor que cero\n",
    "    def esta_vivo(self):\n",
    "        return self.vida > 0\n",
    "\n",
    "    # Metodo para matar al personaje dejando la vida en cero\n",
    "    def morir(self):\n",
    "        self.vida = 0\n",
    "        print(self.nombre, \"ha muerto!\")\n",
    "\n",
    "    # Metodo que informa del daño ocasionado al enemigo\n",
    "    # El enemigo resiste con su *defensa* al ataque que hacemos con nuestra *fuerza*\n",
    "    def danio(self, enemigo):\n",
    "        return self.fuerza - enemigo.defensa\n",
    "\n",
    "    # Metodo para atacar al enemigo quitandole vida\n",
    "    def atacar(self, enemigo):\n",
    "        # calculamos el daño\n",
    "        inflijido = self.danio(enemigo)\n",
    "        # se lo restamos a la vida del enemigo e informamos\n",
    "        enemigo.vida -= inflijido\n",
    "        print(self.nombre, \"le quito\", inflijido, \"puntos de vida a\", enemigo.nombre)\n",
    "        # Veamos si el enemigo sigue vivo despues del ataque\n",
    "        if enemigo.esta_vivo():\n",
    "            print(\"La vida de\", enemigo.nombre, \"es de\", enemigo.vida, \"puntos\")\n",
    "        else:\n",
    "            enemigo.morir()\n",
    "\n",
    "# #####################################################################################\n",
    "class Guerrero(Personaje):\n",
    "    \"\"\" Clase para los guerreros\"\"\"\n",
    "\n",
    "    def __init__(self, nombre, fuerza, inteligencia, defensa, vida, espada):\n",
    "        # Veamos que aqui no usamos super()        \n",
    "        Personaje.__init__(self, nombre, fuerza, inteligencia, defensa, vida)\n",
    "        self.espada = espada\n",
    "\n",
    "    def atributos(self):\n",
    "        super().atributos()\n",
    "        print(\"Espada:\", self.espada)\n",
    "\n",
    "    # metodo para cambiar la espada\n",
    "    def cambiar_arma(self):\n",
    "        # Mostramos un mensaje, capturamos la respuesta, lo pasamos a entero y guardamos\n",
    "        eleccion = int(input(\"Elige el arma: [1] Acero, daño 8. [2] Matadragones, daño 10\"))\n",
    "        # Veamos que eligio\n",
    "        if eleccion == 1:\n",
    "            self.espada = 8\n",
    "        elif eleccion == 2:\n",
    "            self.espada = 10\n",
    "        else:\n",
    "            print(\"Debe elegir 1 o 2\")\n",
    "\n",
    "    # Reescritura danio\n",
    "    def danio(self, enemigo):\n",
    "        # Multiplica la fuerza por el poder de la espada y le resta la defensa del enemigo\n",
    "        return self.fuerza * self.espada - enemigo.defensa\n",
    "\n",
    "# #####################################################################################\n",
    "class Mago(Personaje):\n",
    "    \"\"\" Clase para los magos \"\"\"\n",
    "\n",
    "    # Ahora en vez de poder d eespada tiene poder de libro de magia\n",
    "    def __init__(self, nombre, fuerza, inteligencia, defensa, vida, libro):\n",
    "        super().__init__(nombre, fuerza, inteligencia, defensa, vida)\n",
    "        self.libro = libro\n",
    "\n",
    "    # ampliamos atributos\n",
    "    def atributos(self):\n",
    "        super().atributos()\n",
    "        print(\"Libro:\", self.libro)\n",
    "\n",
    "    # Y calculamos el nuevo daño\n",
    "    def danio(self, enemigo):\n",
    "        # ahora multiplicamos inteligencia por libro y restamos a defensa del enemigo\n",
    "        return self.inteligencia * self.libro - enemigo.defensa\n",
    "\n",
    "# #####################################################################################\n",
    "# Agreguemos un metodo constructor a Paladin\n",
    "class Paladin(Guerrero, Mago):\n",
    "\n",
    "    def __init__(self, nombre, fuerza, inteligencia, defensa, vida, espada, libro):\n",
    "        Guerrero.__init__(self, nombre, fuerza, inteligencia, defensa, vida, espada)\n",
    "        Mago.__init__(self, nombre, fuerza, inteligencia, defensa, vida, libro)\n",
    "\n",
    "\n",
    "# Y ahora instanciamos un paladin\n",
    "sedona = Paladin(\"Sedona\", 20, 15, 10, 100, 5, 5)\n",
    "\n",
    "# Veamos sus atributos\n",
    "sedona.atributos()"
   ]
  },
  {
   "cell_type": "markdown",
   "id": "0b48c4b5-a2cc-47a2-a543-292e29f5bb24",
   "metadata": {},
   "source": [
    "Por si se preguntan que paso aqui, .atributos() de **Guerrero** ejecuto primero .atributos() de **Mago** (culpa de super()) y luego imprimio self.espada  \n",
    "Hay ocasiones (pocas) en donde el **MRO** juega a nuestro favor."
   ]
  },
  {
   "cell_type": "code",
   "execution_count": 7,
   "id": "d7b7a610-e192-4ea8-9768-b1b7e52a60ac",
   "metadata": {},
   "outputs": [],
   "source": [
    "# Ahora le reformamos el danio para que combine los ataques\n",
    "class Paladin(Guerrero, Mago):\n",
    "\n",
    "    def __init__(self, nombre, fuerza, inteligencia, defensa, vida, espada, libro):\n",
    "        Guerrero.__init__(self, nombre, fuerza, inteligencia, defensa, vida, espada)\n",
    "        Mago.__init__(self, nombre, fuerza, inteligencia, defensa, vida, libro)\n",
    "\n",
    "    def danio(self, enemigo):\n",
    "        # ahora multiplicamos inteligencia por libro mas fuerza por espada \n",
    "        # y restamos a defensa del enemigo\n",
    "        return self.inteligencia * self.libro + self.fuerza * self.espada - enemigo.defensa"
   ]
  },
  {
   "cell_type": "markdown",
   "id": "57fb0591-860a-4127-b81e-94c40b788a3d",
   "metadata": {},
   "source": [
    "Y con esto ya tenemos un **Paladin** funcional.  \n",
    "Si nos interesa conocer el orden de ejecucion de los metodos heredados, podemos emplear la funcion mro() sobre la clase que nos interesa y compararla con lo que pensabamos que deberia ocurrir\n"
   ]
  },
  {
   "cell_type": "code",
   "execution_count": 8,
   "id": "f2893136-2289-48af-9987-e5be559a1822",
   "metadata": {},
   "outputs": [
    {
     "data": {
      "text/plain": [
       "[__main__.Paladin,\n",
       " __main__.Guerrero,\n",
       " __main__.Mago,\n",
       " __main__.Personaje,\n",
       " object]"
      ]
     },
     "execution_count": 8,
     "metadata": {},
     "output_type": "execute_result"
    }
   ],
   "source": [
    "# veamos el MRO de nuestra clase\n",
    "Paladin.mro()"
   ]
  },
  {
   "cell_type": "markdown",
   "id": "1993efcf-a324-47a5-a3de-b972ad380e25",
   "metadata": {},
   "source": [
    "## Importante  \n",
    ".super() nos va a producir efectos que nos tomara tiempo comprender, de todas formas la herencia multiple es algo que debemos usar con precaucion y entendiendo muy bien su necesidad.  \n",
    "De preferencia, mejor usar siempre la herencia simple."
   ]
  },
  {
   "cell_type": "markdown",
   "id": "da0f9ac3-3217-4113-b96d-a737de789228",
   "metadata": {},
   "source": [
    "<h1 style=\"color:blue\">Clases internas [Notacion punto]</h1>  \n",
    "\n",
    "Existen situaciones en donde usamos clases dentro de nuestrar clases.  \n",
    "A esto se lo denomina Clases Internas y tiene dos formas.  \n",
    "Una es donde una clase se usa como atributo dentro de otra clase.  \n",
    "Podriamos tener una clase **Equipaje** que sea cargado por nuestro **Personaje**"
   ]
  },
  {
   "cell_type": "code",
   "execution_count": 9,
   "id": "ed8247c5-943f-42cd-9781-f99e179dc9b3",
   "metadata": {},
   "outputs": [],
   "source": [
    "# Definimos las dos clases\n",
    "class Equipaje():\n",
    "\n",
    "    def __init__(self, tipo, capacidad, color):\n",
    "        self.tipo = tipo\n",
    "        self.capacidad = capacidad\n",
    "        self.color = color\n",
    "\n",
    "class Viajero():\n",
    "\n",
    "    def __init__(self, nombre, equipaje, fuerza):\n",
    "        self.nombre = nombre\n",
    "        self.fuerza = fuerza\n",
    "        self.equipaje = equipaje"
   ]
  },
  {
   "cell_type": "code",
   "execution_count": 10,
   "id": "73625652-a184-43e8-af8d-b73e8274b732",
   "metadata": {},
   "outputs": [
    {
     "name": "stdout",
     "output_type": "stream",
     "text": [
      "Eladio\n",
      "Mochila\n",
      "10\n",
      "Negro\n"
     ]
    }
   ],
   "source": [
    "# Y si queremos saber que datos tiene el equipaje de un personaje\n",
    "# instanciamos ambas clases...\n",
    "\n",
    "mochila = Equipaje(\"Mochila\", 10, \"Negro\")\n",
    "\n",
    "mochilero = Viajero(\"Eladio\", mochila, 50)\n",
    "\n",
    "# Notese el uso de los puntos para referenciar la jerarquia\n",
    "print(mochilero.nombre)\n",
    "print(mochilero.equipaje.tipo)\n",
    "print(mochilero.equipaje.capacidad)\n",
    "print(mochilero.equipaje.color)"
   ]
  },
  {
   "cell_type": "markdown",
   "id": "48c9c1b2-71bc-4114-8db1-eddf5bb00539",
   "metadata": {},
   "source": [
    "Otro tipo se presenta cuando la clase se define **dentro** de la otra clase.  \n",
    "Esto ocurre cuando el objeto interior esta muy relacionado con el objeto exterior.  \n",
    "Un ejemplo es la clase interior **MotorMaritimo** y la clase exterior es **Barco**"
   ]
  },
  {
   "cell_type": "code",
   "execution_count": 14,
   "id": "0162f5e7-3386-467f-9540-798c032158cb",
   "metadata": {},
   "outputs": [],
   "source": [
    "# Ejemplo clase definida en clase\n",
    "class Barco():\n",
    "\n",
    "    class MotorMaritimo():\n",
    "        # por lo general NO SE DEFINEN METODOS ( ni siquiera __init__)\n",
    "        # solo atributos\n",
    "        # Asi que esto esta MAL\n",
    "        def __init(self, cilindrada, combustible):\n",
    "            self.cilindrada = cilindrada\n",
    "            self.combustible = combustible\n",
    "\n",
    "    def __init__(self, eslora, velocidad, cilindrada, combustible):\n",
    "        self.eslora = eslora\n",
    "        self.velocidad = velocidad\n",
    "        self.MotorMaritimo.cilindrada = cilindrada\n",
    "        self.MotorMaritimo.combustible = combustible"
   ]
  },
  {
   "cell_type": "code",
   "execution_count": 15,
   "id": "da9b37b0-fee1-4792-a5eb-3e328f10f5bb",
   "metadata": {},
   "outputs": [
    {
     "name": "stdout",
     "output_type": "stream",
     "text": [
      "1600\n"
     ]
    }
   ],
   "source": [
    "la_argentina = Barco(15, 125, 1600, \"nafta\")\n",
    "print(la_argentina.MotorMaritimo.cilindrada)"
   ]
  },
  {
   "cell_type": "markdown",
   "id": "2e606971-cac0-48a2-b1da-b4180710b3bb",
   "metadata": {},
   "source": [
    "Las clases internas tambien son utilidades que hay que emplear con mucho criterio.  Normalmente no las emplearemos  a menos que sean estrictamente necesarias. "
   ]
  },
  {
   "cell_type": "markdown",
   "id": "b8cb2533-62c2-4f78-9ca1-eba7665db0b8",
   "metadata": {},
   "source": [
    "<h1 style=\"color:blue\">Practica en serio</h1>  \n",
    "\n",
    "Con lo que aprendimos hasta ahora ya podemos hacer avanzar un poco el juego.  \n",
    "Vamos a crear una clase **Lugar** que representa un lugar en el espacio (tiene dos coordenadas)  \n",
    "Y una clase **Mapa** que tiene una ubicacion *salida* que es un objeto del tipo  **Lugar**\n",
    "Y un metodo *.puede_salir()* que da *True* cuando un **Personaje** esta en **Salida** (ademas debe subir de nivel a **Personaje**)  \n",
    "¿Como lo hariamos?  "
   ]
  },
  {
   "cell_type": "code",
   "execution_count": 16,
   "id": "addff6fc-42f3-4f7d-a07b-7b700e716e00",
   "metadata": {},
   "outputs": [],
   "source": [
    "# Aca programan ustedes\n",
    "class Lugar():\n",
    "    def __init__(self, coordenada_x, coordenada_y):\n",
    "        self.x = coordenada_x\n",
    "        self.y = coordenada_y\n",
    "\n",
    "class Perso(Personaje):\n",
    "    \n",
    "    # no usamos el objeto lugar\n",
    "    def __init__(self, nombre, fuerza, inteligencia, defensa, vida, pos_x, pos_y):\n",
    "        Personaje.__init__(self, nombre, fuerza, inteligencia, defensa, vida)\n",
    "        self.posicion_x = pos_x\n",
    "        self.posicion_y = pos_y\n",
    "\n",
    "class Mapa():\n",
    "    def __init__(self, puerta):\n",
    "        self.puerta = puerta\n",
    "\n",
    "    def puede_salir(self, persona):\n",
    "        if self.puerta.x == persona.posicion_x and self.puerta.y == persona.posicion_y :\n",
    "            persona.subir_nivel(10,10,10)\n",
    "            return True\n",
    "        else:\n",
    "            return False"
   ]
  },
  {
   "cell_type": "code",
   "execution_count": 17,
   "id": "3e94ccd3-558b-469e-b1a8-4aab154df7ac",
   "metadata": {},
   "outputs": [
    {
     "name": "stdout",
     "output_type": "stream",
     "text": [
      "Lucky:\n",
      "Fuerza: 20\n",
      "Inteligencia: 40\n",
      "Defensa: 50\n",
      "Vida: 60\n",
      "Aguante: 1200\n"
     ]
    },
    {
     "data": {
      "text/plain": [
       "True"
      ]
     },
     "execution_count": 17,
     "metadata": {},
     "output_type": "execute_result"
    }
   ],
   "source": [
    "jugador = Perso(\"Lucky\", 20, 40, 50, 60, 10, 10)\n",
    "\n",
    "jugador.atributos()\n",
    "\n",
    "salida = Lugar(10, 10)\n",
    "\n",
    "mi_mapa = Mapa(salida)\n",
    "\n",
    "mi_mapa.puede_salir(jugador)"
   ]
  },
  {
   "cell_type": "code",
   "execution_count": 18,
   "id": "f794a04c-dce5-4ebf-b4ab-fcab563a4d99",
   "metadata": {},
   "outputs": [
    {
     "name": "stdout",
     "output_type": "stream",
     "text": [
      "Lucky:\n",
      "Fuerza: 30\n",
      "Inteligencia: 50\n",
      "Defensa: 60\n",
      "Vida: 60\n",
      "Aguante: 1200\n"
     ]
    }
   ],
   "source": [
    "jugador.atributos()"
   ]
  },
  {
   "cell_type": "markdown",
   "id": "7592553c",
   "metadata": {},
   "source": [
    "### Que en la tercera clase de PA ya estemos programando elementos de un juego es algo para destacar. Asi mis felicitaciones!!!"
   ]
  },
  {
   "cell_type": "markdown",
   "id": "918a857e-c0a4-4369-9f9c-e073b2c025f8",
   "metadata": {},
   "source": [
    "<h1 style=\"color:blue\">Metaclases</h1>  \n",
    "\n",
    "### Object\n",
    "hasta ahora vimos que una clase hereda de otra y nunca nos preguntamos de donde sale esa primer clase.  \n",
    "En el enunciado de creacion de clases vemos que la clase *Padre* va entre los parentesis (como una especie de argumento...)  "
   ]
  },
  {
   "cell_type": "code",
   "execution_count": null,
   "id": "7a020b31-3d28-4ac7-9722-70575f0959cd",
   "metadata": {},
   "outputs": [],
   "source": [
    "# No ejecutar, falta definir Padre\n",
    "# definicion de clase hija \n",
    "class Hija(Padre):\n",
    "    pass\n",
    "\n",
    "# definicion de clase padre\n",
    "class Padre():\n",
    "    pass"
   ]
  },
  {
   "cell_type": "markdown",
   "id": "f0764138-983a-46b7-8394-05ca492217a4",
   "metadata": {},
   "source": [
    "En realidad ahi siempre HAY un argumento, solo que es invisible.  \n",
    "En python todos los objetos heredan de **Object** que es la clase *Madre* de todas las demas.  \n",
    "Es por eso que cuando usamos la funcion **dir()** podemos ver que hay varios metodos y atributos que nunca definimos.  "
   ]
  },
  {
   "cell_type": "code",
   "execution_count": 19,
   "id": "1087590b-a54b-4096-b1fa-774191574f22",
   "metadata": {},
   "outputs": [
    {
     "data": {
      "text/plain": [
       "['__class__',\n",
       " '__delattr__',\n",
       " '__dict__',\n",
       " '__dir__',\n",
       " '__doc__',\n",
       " '__eq__',\n",
       " '__format__',\n",
       " '__ge__',\n",
       " '__getattribute__',\n",
       " '__getstate__',\n",
       " '__gt__',\n",
       " '__hash__',\n",
       " '__init__',\n",
       " '__init_subclass__',\n",
       " '__le__',\n",
       " '__lt__',\n",
       " '__module__',\n",
       " '__ne__',\n",
       " '__new__',\n",
       " '__reduce__',\n",
       " '__reduce_ex__',\n",
       " '__repr__',\n",
       " '__setattr__',\n",
       " '__sizeof__',\n",
       " '__str__',\n",
       " '__subclasshook__',\n",
       " '__weakref__']"
      ]
     },
     "execution_count": 19,
     "metadata": {},
     "output_type": "execute_result"
    }
   ],
   "source": [
    "# Creamos una clase vacia\n",
    "class Ejemplo():\n",
    "    pass\n",
    "\n",
    "\n",
    "# instanciamos y ejecutamos su funcion __dict__\n",
    "un_ejemplo = Ejemplo()\n",
    "dir(un_ejemplo)"
   ]
  },
  {
   "cell_type": "markdown",
   "id": "95074bc7-817d-43e7-b476-8b525b68be27",
   "metadata": {},
   "source": [
    "Todos esos metodos y atributos nunca fueron codificados por nosotros y fueron heredados de la clase *Madre* **Object** que es provista por python.  \n",
    "Cuando creamos una clase nueva en realidad ejecutamos una funcion de Object que nos realiza todo el trabajo. \n",
    "Y esta posibilidad tambien esta disponible para que la podamos usar cuando querramos nosotros.  \n",
    "\n",
    "### Metaclases\n",
    "Esta posibilidad nos va permitir la creacion **dinamica** de clases. Es decir que podemos crear una clase nueva sin necesidad de definirla previamente en el codigo (lo que seria una creacion **estatica** de la clase)  \n",
    "Si bien no es algo comun y absolutamente necesario, es algo con lo que nos vamos a encontrar en la vida profesional.  \n",
    "La capacidad de crear clases parte de las **metaclases** que son clases cuya instancia es tambien una clase.  \n",
    "En python la metaclase por defecto es *type*  \n",
    "\n",
    "A *type()* normalmente lo usamos para verificar de que tipo es una variable."
   ]
  },
  {
   "cell_type": "code",
   "execution_count": 20,
   "id": "f978433c-b2b1-4cf0-b2c3-2351fbb73395",
   "metadata": {},
   "outputs": [
    {
     "data": {
      "text/plain": [
       "int"
      ]
     },
     "execution_count": 20,
     "metadata": {},
     "output_type": "execute_result"
    }
   ],
   "source": [
    "# ejemplo de type como funcion\n",
    "nota_alumno = 7\n",
    "type(nota_alumno)"
   ]
  },
  {
   "cell_type": "markdown",
   "id": "9fa81ce3-2d15-4502-ab4f-ac1c4df42520",
   "metadata": {},
   "source": [
    "Pero tambien lo podemos usar para crear una clase.  \n",
    "La sintaxis es un poco distinta, para mostrar de que tipo es un objeto solo pasabamos a *type()* el objeto a analizar como un solo argumento.  \n",
    "Para la creacion de una nueva clase se pasan TRES argumentos: el nombre de la clase, una tupla con las clases padres y un diccionario con los atributos. Y la funcion retorna una clase."
   ]
  },
  {
   "cell_type": "code",
   "execution_count": null,
   "id": "e96e487b-b732-44d2-8bb1-ca0705182a34",
   "metadata": {},
   "outputs": [],
   "source": [
    "# No ejecutar!!!!!\n",
    "# Modelo de creacion de clases con metaclases\n",
    "Hijo = type(\"Hijo\", (Padre), {nombre:\"Luke\", edad:24})\n",
    "\n",
    "# Y esto es igual a \n",
    "class Hijo(Padre, Madre):\n",
    "    self.nombre = \"Luke\"\n",
    "    self.edad = 24"
   ]
  },
  {
   "cell_type": "markdown",
   "id": "b1f68028-cb98-4710-a2cc-b4319b3776d4",
   "metadata": {},
   "source": [
    "Tambien se pueden crear metodos, pero puede llegar a ser un poco complicado y no es necesario explicarlo aqui.  \n",
    "Crear clases programaticamente es muy util cuando necesitamos clases que representen objetos que a priori no sabemos como van a estar formados. Por ejemplo cuando tenemos que representar a un dato provisto desde una fuente que no controlamos.  \n",
    "Hay frameworks de desarrollo web que emplean metaclases para crear los objetos que representan las tablas de las BBDD (modelos)  \n",
    "\n",
    "### Nota\n",
    "Los que conozcan otros lenguajes mas \"POO puros\" habran notado que **type** hace cosas distintas cuando tiene argumentos distintos (con un solo argumento devuelve el tipo del argumento y con tres devuelve una clase)  \n",
    "A esto se lo denomina **sobre-carga de metodos** Y es otro pilar de la programación orientada a objetos.\n",
    "Python no tiene nativamente esta posibilidad, asi que seguramente **type** chequea cuantos argumentos recibe y ejecuta distintos bloques de codigo en consecuencia."
   ]
  },
  {
   "cell_type": "markdown",
   "id": "5b6b6b56-916c-4bf5-8a2d-717a56d1b2f7",
   "metadata": {},
   "source": [
    "<h1 style=\"color:blue\">Metodos Magicos</h1>  \n",
    "\n",
    "Tambien llamados **dunders (double underscore)** o **metodos especiales** son metodos que son heredados de **Object** y que nos pueden ser utiles en algunas ocasiones.  \n",
    "Todas ellas estan *encapsuladas* usando el doble guion bajo.  \n",
    "Ya conocimos y usamos **\\_\\_init\\_\\_** que es el tipico metodo magico pero no se si recuerdan que en su momento creamos una clase e imprimimos su instancia. Y aparte de reportar que tipo de objeto era, nos decia en que posicion de memoria estaba ocupando.  \n",
    "Quizas nos seria mas util que nos de algun dato sobre el objeto ¿no?\n",
    "Cuando hacemos print(clase) en realidad estamos haciendo print(clase.\\_\\_str\\_\\_()) Asi que tendriamos que re-escribir ese metodo.  \n",
    "Veamos que podemos hacer"
   ]
  },
  {
   "cell_type": "code",
   "execution_count": 21,
   "id": "ed72f749-a734-454d-92c5-d6b2265bb0c3",
   "metadata": {},
   "outputs": [
    {
     "name": "stdout",
     "output_type": "stream",
     "text": [
      "<__main__.Coche object at 0x7f94d412b6d0>\n"
     ]
    }
   ],
   "source": [
    "# lo que hacemos\n",
    "class Coche():\n",
    "    def __init__(self, marca, modelo):\n",
    "        self.marca = marca\n",
    "        self.modelo = modelo\n",
    "\n",
    "# instanciamos\n",
    "mi_auto = Coche(\"Renault\", \"Clio\")\n",
    "\n",
    "# imprimimos\n",
    "print(mi_auto)"
   ]
  },
  {
   "cell_type": "code",
   "execution_count": 22,
   "id": "7a6897ef-7e42-40da-b8e1-2661329fe9d6",
   "metadata": {},
   "outputs": [
    {
     "data": {
      "text/plain": [
       "'<__main__.Coche object at 0x7f94d412b6d0>'"
      ]
     },
     "execution_count": 22,
     "metadata": {},
     "output_type": "execute_result"
    }
   ],
   "source": [
    "# lo que ocurre \n",
    "mi_auto.__str__()"
   ]
  },
  {
   "cell_type": "markdown",
   "id": "f934d91e-169e-4d36-8532-dc4c2749c113",
   "metadata": {},
   "source": [
    "Vamos a re-escribir ese metodo para que nos sea mas util."
   ]
  },
  {
   "cell_type": "code",
   "execution_count": 23,
   "id": "efe0c86a-64be-499e-931f-e8c5ea6dd3d7",
   "metadata": {},
   "outputs": [],
   "source": [
    "# metodo mejorado\n",
    "class Coche():\n",
    "    def __init__(self, marca, modelo):\n",
    "        self.marca = marca\n",
    "        self.modelo = modelo\n",
    "\n",
    "    def __str__(self):\n",
    "        return \"El coche es un {} {}\".format(self.marca, self.modelo)\n"
   ]
  },
  {
   "cell_type": "code",
   "execution_count": 24,
   "id": "ea813bac-46f0-4d13-867a-6b153ccf2aa4",
   "metadata": {},
   "outputs": [
    {
     "name": "stdout",
     "output_type": "stream",
     "text": [
      "El coche es un Renault Clio\n"
     ]
    }
   ],
   "source": [
    "# instanciamos\n",
    "mi_auto = Coche(\"Renault\", \"Clio\")\n",
    "\n",
    "# imprimimos\n",
    "print(mi_auto)"
   ]
  },
  {
   "cell_type": "markdown",
   "id": "fbc79155-8ab4-43b6-a9c4-0743d02ed972",
   "metadata": {},
   "source": [
    "Como ya vimos, *dir()* nos muestra los metodos magicos que ya vienen con cualquier clase que usemos.  "
   ]
  },
  {
   "cell_type": "code",
   "execution_count": 25,
   "id": "40dfc975-41c2-487a-b173-eac7cef5a663",
   "metadata": {},
   "outputs": [
    {
     "data": {
      "text/plain": [
       "['__class__',\n",
       " '__delattr__',\n",
       " '__dict__',\n",
       " '__dir__',\n",
       " '__doc__',\n",
       " '__eq__',\n",
       " '__format__',\n",
       " '__ge__',\n",
       " '__getattribute__',\n",
       " '__getstate__',\n",
       " '__gt__',\n",
       " '__hash__',\n",
       " '__init__',\n",
       " '__init_subclass__',\n",
       " '__le__',\n",
       " '__lt__',\n",
       " '__module__',\n",
       " '__ne__',\n",
       " '__new__',\n",
       " '__reduce__',\n",
       " '__reduce_ex__',\n",
       " '__repr__',\n",
       " '__setattr__',\n",
       " '__sizeof__',\n",
       " '__str__',\n",
       " '__subclasshook__',\n",
       " '__weakref__',\n",
       " 'marca',\n",
       " 'modelo']"
      ]
     },
     "execution_count": 25,
     "metadata": {},
     "output_type": "execute_result"
    }
   ],
   "source": [
    "# mostramos los metodos magicos con dir()\n",
    "dir(mi_auto)"
   ]
  },
  {
   "cell_type": "markdown",
   "id": "3587bb6b-0329-4c34-8382-d6824f5fd35b",
   "metadata": {},
   "source": [
    "Si queremos ser mas especificos, el metodo magico **\\_\\_dict\\_\\_** nos muestra los atributos de un objeto en forma de un diccionario.  "
   ]
  },
  {
   "cell_type": "code",
   "execution_count": 26,
   "id": "62c088f8-17b8-4cb8-bc51-7c88b875e3ec",
   "metadata": {},
   "outputs": [
    {
     "data": {
      "text/plain": [
       "{'marca': 'Renault', 'modelo': 'Clio'}"
      ]
     },
     "execution_count": 26,
     "metadata": {},
     "output_type": "execute_result"
    }
   ],
   "source": [
    "mi_auto.__dict__"
   ]
  },
  {
   "cell_type": "markdown",
   "id": "f80b0fd8-fb3b-4619-bc88-3af33f39acb6",
   "metadata": {},
   "source": [
    "Hay metodos que nos permiten documentar una clase, comparar, establecer una longitud o tamaño, ver datos internos de la representacion en memoria, etc, etc.  \n",
    "Y ademas, otras clases dentro de python (los tipos basicos, por ejemplo) agregan mas metodos magicos que podemos modificar a nuestro gusto.  \n",
    "En [github](https://github.com/RafeKettler/magicmethods/blob/master/magicmethods.pdf) podemos encontrar un listado mas extenso (pero en ingles...)"
   ]
  },
  {
   "cell_type": "markdown",
   "id": "9b0cbeba-eb45-4e43-8b54-b3ccd564167e",
   "metadata": {},
   "source": [
    "<h1 style=\"color:blue\">Side Quest</h1>  \n",
    "\n",
    "### Argumentos\n",
    "Vamos a ver un tema que nos tiene que quedar bien en claro para entender lo que viene.  \n",
    "Ya sabemos que una funcion en python recibe tres tipos de *argumentos* los **posicionales**, los **con valor por defecto** y los **nominados** (o **con nombre**)  \n",
    "Los posicionales son los que procesan en el orden que llegaron y son lo que usamos siempre.  "
   ]
  },
  {
   "cell_type": "code",
   "execution_count": 27,
   "id": "8638d4fb-3b2f-4ad7-b9e4-c99d5f67267f",
   "metadata": {},
   "outputs": [
    {
     "name": "stdout",
     "output_type": "stream",
     "text": [
      "1\n",
      "-1\n"
     ]
    }
   ],
   "source": [
    "# funcion simple para usar argumentos posicionales\n",
    "# a y b argumentos\n",
    "def resta(a, b):\n",
    "    return a - b\n",
    "\n",
    "resultado1 = resta(3, 2)\n",
    "print(resultado1) # Imprime 1\n",
    "\n",
    "resultado2 = resta(2, 3)\n",
    "print(resultado2) # Imprime -1"
   ]
  },
  {
   "cell_type": "markdown",
   "id": "ff1a3fe2-0d78-4951-bbad-913cf3441433",
   "metadata": {},
   "source": [
    "Los **con valor por defecto** son posicionales a los que en la definicion de funcion le damos un valor por defecto.  \n",
    "Esto no permite *olvidarnos* de proveer algun argumento, y la funcion lo procesara igual.  \n",
    "No debemos olvidarnos que son posicionales y que debemos respetar su orden."
   ]
  },
  {
   "cell_type": "code",
   "execution_count": 28,
   "id": "944f2d89-67a1-40c4-a0b7-69cef5ad3888",
   "metadata": {},
   "outputs": [
    {
     "name": "stdout",
     "output_type": "stream",
     "text": [
      "6\n",
      "15\n"
     ]
    }
   ],
   "source": [
    "# funcion simple para usar argumentos posicionales con valor por defecto\n",
    "# a y b argumentos b con valor por defecto\n",
    "def multiplicacion(a, b=2):\n",
    "    return a * b\n",
    "\n",
    "resultado1 = multiplicacion(3)\n",
    "print(resultado1) # Imprime 6\n",
    "resultado2 = multiplicacion(3, 5)\n",
    "print(resultado2) # Imprime 15"
   ]
  },
  {
   "cell_type": "markdown",
   "id": "92c7a0ef-41a4-4ae0-a52e-cfc2aa19808b",
   "metadata": {},
   "source": [
    "Un detalle a tener en cuenta es que en la definicion de funcion **PRIMERO** van los argumentos SIN valor por defecto y **LUEGO** los CON valor por defecto.  "
   ]
  },
  {
   "cell_type": "code",
   "execution_count": 29,
   "id": "be1527e9-c4e2-4ee0-b55f-648c31bc1b20",
   "metadata": {},
   "outputs": [
    {
     "ename": "SyntaxError",
     "evalue": "non-default argument follows default argument (989651062.py, line 3)",
     "output_type": "error",
     "traceback": [
      "\u001b[0;36m  Cell \u001b[0;32mIn[29], line 3\u001b[0;36m\u001b[0m\n\u001b[0;31m    def multiplicacion(a=2, b):\u001b[0m\n\u001b[0m                            ^\u001b[0m\n\u001b[0;31mSyntaxError\u001b[0m\u001b[0;31m:\u001b[0m non-default argument follows default argument\n"
     ]
    }
   ],
   "source": [
    "# funcion simple para ver el error al usar argumentos posicionales con valor por defecto sin orden\n",
    "# a y b argumentos\n",
    "def multiplicacion(a=2, b):\n",
    "    return a * b\n",
    "\n",
    "resultado1 = multiplicacion(3)\n",
    "print(resultado1) # Imprime 6\n",
    "resultado2 = multiplicacion(3, 5)\n",
    "print(resultado2) # Imprime 15"
   ]
  },
  {
   "cell_type": "markdown",
   "id": "65f8d9ec-5405-43c8-b659-8ee595fe00c0",
   "metadata": {},
   "source": [
    "Los argumentos **nominados** son los que se pasan como nombre y valor en el **llamado** de la funcion.  \n",
    "En la definicion de funcion no tenemos que hacer ningun cambio e incluso podemos darles valores por defecto.  "
   ]
  },
  {
   "cell_type": "code",
   "execution_count": 30,
   "id": "be4ed4ed-e2db-408e-9b08-c108d9f1dff0",
   "metadata": {},
   "outputs": [
    {
     "name": "stdout",
     "output_type": "stream",
     "text": [
      "8\n",
      "7\n"
     ]
    }
   ],
   "source": [
    "# funcion simple para usar argumentos posicionales con valor por defecto\n",
    "# a y b argumentos b con valor por defecto\n",
    "def suma(a, b=2):\n",
    "    return a + b\n",
    "\n",
    "# Ahora vemos como en el llamdo pasamos los argumentos por NOMBRE y sin importar el orden\n",
    "resultado1 = suma(b=3, a=5)\n",
    "print(resultado1) # Imprime 8\n",
    "# Veamos que el valor por defecto sigue siendo utilizado\n",
    "resultado2 = suma(a=5)\n",
    "print(resultado2) # Imprime 7"
   ]
  },
  {
   "cell_type": "markdown",
   "id": "d7aee0e3-976b-4908-9b26-4a3c44e2a9bd",
   "metadata": {},
   "source": [
    "### Argumentos variables\n",
    "\n",
    "En los ejemplos anteriores vimos que los argumentos (y su cantidad) estaban fijados en la definicion de la funcion, pero puede suceder que necesitemos procesar un numero indeterminado de argumentos.  \n",
    "La solucion clasica es *suponer* que los argumentos vienen en una **lista** y en nuestra funcion recorrer esa lista y emplear sus valores como los argumentos. Pero tenemos que crear primero esa lista.    \n",
    "Python tiene una forma elegante de hacer eso mismo sin necesidad de crear una lista reviamente y es con el uso de **\\*args**  \n",
    "El nombre args es una convencion, lo importante es el uso del asterisco simple delante del nombre que representara a los argumentos.  "
   ]
  },
  {
   "cell_type": "code",
   "execution_count": 31,
   "id": "10f66dfe-50f6-4d9a-a40c-3c270db9af71",
   "metadata": {},
   "outputs": [
    {
     "name": "stdout",
     "output_type": "stream",
     "text": [
      "2.5\n"
     ]
    }
   ],
   "source": [
    "# Creamos una funcion que procesa una lista\n",
    "def promedio(lista_argumentos):\n",
    "    # sum y len son funciones de python que operan con listas\n",
    "    return sum(lista_argumentos) / len(lista_argumentos)\n",
    "\n",
    "# LLamamos a la funcion pasandole una lista \n",
    "print(promedio([1, 2, 3, 4])) # Imprime 2.5"
   ]
  },
  {
   "cell_type": "code",
   "execution_count": 32,
   "id": "aa2e2443-78db-4893-a4e3-b2515965c6eb",
   "metadata": {},
   "outputs": [
    {
     "name": "stdout",
     "output_type": "stream",
     "text": [
      "2.5\n",
      "1.5\n",
      "9.0\n"
     ]
    }
   ],
   "source": [
    "# Creamos una funcion que procesa un numero variable de argumentos\n",
    "def promedio(*args):\n",
    "    # sum y len SIGUEN operando con una lista...\n",
    "    return sum(args) / len(args)\n",
    "\n",
    "# Ahora llamamos a la funcion SIN pasarles una lista\n",
    "print(promedio(1, 2, 3, 4)) # Imprime 2.5\n",
    "print(promedio(1, 2)) # Imprime 1.5\n",
    "print(promedio(3, 6, 9, 12, 15)) # Imprime 9"
   ]
  },
  {
   "cell_type": "markdown",
   "id": "85eeb4ec-11ec-44a8-9e68-8b47150807b4",
   "metadata": {},
   "source": [
    "Otra forma de manejar una cantidad variable de argumentos en Python es utilizando el doble operador **\\*\\*kwargs**. Recordemos que kwargs es una convencion, otros nombres usados son kvargs o kargs.  \n",
    "Si usamos este operador antes del nombre de un argumento, python creará un diccionario con los nombres de los argumentos como llaves y valores.  \n",
    "Veamos un ejemplo.  "
   ]
  },
  {
   "cell_type": "code",
   "execution_count": 33,
   "id": "70b56cd6-eabe-4eda-96fb-9fd139868826",
   "metadata": {},
   "outputs": [
    {
     "name": "stdout",
     "output_type": "stream",
     "text": [
      "nombre: Juan\n",
      "edad: 30\n",
      "altura: 160\n"
     ]
    }
   ],
   "source": [
    "# Creamos una funcion que procesa un numero variable de argumentos llave y valor\n",
    "def imprimir_kwargs(**kwargs):\n",
    "    for key, value in kwargs.items():\n",
    "        print(f\"{key}: {value}\")\n",
    "\n",
    "# lo probamos con algo sencillo\n",
    "imprimir_kwargs(nombre=\"Juan\", edad=30, altura=160)"
   ]
  },
  {
   "cell_type": "markdown",
   "id": "6ba977f0-7d56-4cbc-9974-88c8ae0d4eda",
   "metadata": {},
   "source": [
    "Podemos necesitar una funcion que acepte todo tipo de argumento, posicionales, numero variable y nominados.  \n",
    "Pero debemos recordar que debemos seguir SIEMPRE ese orden (posicional, *args, **kwargs)"
   ]
  },
  {
   "cell_type": "code",
   "execution_count": 34,
   "id": "776455ff-bd64-44c5-b2f1-db4a770bbdeb",
   "metadata": {},
   "outputs": [],
   "source": [
    "# una funcion que acepta todos los tipos de argumentos\n",
    "def imprimir_todo(posicional, *args, **kwargs):\n",
    "    print(posicional)\n",
    "    \n",
    "    for arg in args:\n",
    "        print(arg)\n",
    "\n",
    "    for key, value in kwargs.items():\n",
    "        print(f\"{key}: {value}\")"
   ]
  },
  {
   "cell_type": "code",
   "execution_count": 35,
   "id": "07f3d7da-9d6d-4467-98e0-d83dfd7dab01",
   "metadata": {},
   "outputs": [
    {
     "name": "stdout",
     "output_type": "stream",
     "text": [
      "Central\n",
      "1\n",
      "2\n",
      "3\n",
      "nombre: Juan\n",
      "edad: 30\n"
     ]
    }
   ],
   "source": [
    "# lo probamos\n",
    "imprimir_todo(\"Central\", 1, 2, 3, nombre=\"Juan\", edad=30)"
   ]
  },
  {
   "cell_type": "markdown",
   "id": "1478e224-daad-4f43-af78-b0a1397ad251",
   "metadata": {},
   "source": [
    "Si bien ese es el orden, es mas que obvio que el primer argumento *posicional* esta de mas ya que puede ser incluido en el **\\*args**  \n",
    "El uso correcto es siempre funcion(*args, **kwargs)"
   ]
  },
  {
   "cell_type": "markdown",
   "id": "0427c852-1df0-4101-855f-f8b2edb4c8ca",
   "metadata": {},
   "source": [
    "<h1 style=\"color:blue\">Decoradores</h1>  \n",
    "\n",
    "En python las funciones ocupan un lugar importante, son centrales en el desarrollo. Como vimos en la clase de los paradigmas, eso es porque casi todos los lenguajes de programacion nacen basandose en funciones (paradigma estructural)  \n",
    "Las funciones pueden ser asignadas a una variable, y cualquier referencia a esa variable se convierte en la ejecucion de esa funcion.  \n",
    "Y como son variables, tambien pueden ser pasadas como argumentos a otras funciones.  \n",
    "Veamos unos ejemplos en codigo.  "
   ]
  },
  {
   "cell_type": "code",
   "execution_count": 36,
   "id": "e5cde877-aa77-4809-9169-f7aa280f83a9",
   "metadata": {},
   "outputs": [
    {
     "name": "stdout",
     "output_type": "stream",
     "text": [
      "Yo soy una super-funcion y ahora voy a ejecutar la proxima funcion:\n",
      "Hola, soy una función\n"
     ]
    }
   ],
   "source": [
    "# Esto es una simple funcion\n",
    "def saludar(): \n",
    "    print('Hola, soy una función') \n",
    "\n",
    "# y esta es otra funcion que ejecuta una funcion\n",
    "def super_funcion(funcion):\n",
    "    print(\"Yo soy una super-funcion y ahora voy a ejecutar la proxima funcion:\")\n",
    "    funcion()\n",
    "\n",
    "# le pasamos funcion() (como variable) a super_funcion()\n",
    "super_funcion(saludar)      "
   ]
  },
  {
   "cell_type": "markdown",
   "id": "1c02bdf9-ccff-4777-8545-c8e2da987263",
   "metadata": {},
   "source": [
    "Tenemos que conocer tambien que podemos tener una funcion dentro de otra funcion. Este esquema es llamado de *inner functions*  \n",
    "Y podemos ver un ejemplo y como es el orden de ejecucion en estos casos.  "
   ]
  },
  {
   "cell_type": "code",
   "execution_count": 37,
   "id": "05bea81a-f567-4207-87cd-f5c058be7a4c",
   "metadata": {},
   "outputs": [
    {
     "name": "stdout",
     "output_type": "stream",
     "text": [
      "Yo soy tu padre!\n",
      "Yo soy Leia\n",
      "Yo soy Luke\n"
     ]
    }
   ],
   "source": [
    "# funciones anidadas\n",
    "def padre():\n",
    "    print(\"Yo soy tu padre!\")\n",
    "\n",
    "    def primer_hijo():\n",
    "        print(\"Yo soy Luke\")\n",
    "\n",
    "    def segundo_hijo():\n",
    "        print(\"Yo soy Leia\")\n",
    "\n",
    "    segundo_hijo()\n",
    "    primer_hijo()\n",
    "\n",
    "# Lo probamos\n",
    "padre()"
   ]
  },
  {
   "cell_type": "markdown",
   "id": "41bdac40-d2c1-4ef0-b970-43fafa712b0e",
   "metadata": {},
   "source": [
    "Los decoradores son formas de extender o modificar el funcionamiento de funciones (o metodos dentro de una clase) sin modificar el codigo que ya tenemos.  \n",
    "Y fundamentalmente se usan para agregares funcionalidades comunes al codigo que escribimos, ahorrandonos (a veces y en ciertos ambitos) mucho trabajo.  \n",
    "Es un esquema en donde una funcion a() recibe como argumento una funcion b() y devuelve una funcion c()   \n",
    "(Cosas que recien acabamos de ver que se puede hacer...)  \n",
    "Es como una formula matematica.\n",
    "$$ a(b())\\rightarrow c()$$\n",
    "  \n",
    "Nos tiene que quedar claro que trabajamos con TRES funciones.  \n",
    "Veamos con un ejemplo:  \n",
    "Ahora vamos a hacer una funcion decoradora. Veamos que, por convencion, la funcion *c()* que vimos en la formula se denomina funcion *wrapper* (envoltura) "
   ]
  },
  {
   "cell_type": "code",
   "execution_count": 38,
   "id": "888430b2-7bfc-40a5-b478-48604e9ee205",
   "metadata": {},
   "outputs": [],
   "source": [
    "# Funcion decoradora\n",
    "# ojo! Hay mucho comentario en este codigo...\n",
    "# La idea es usarlo como un template para decoradores\n",
    "def mi_decorador(func):  # Esto es a() func es b()\n",
    "    # si tenemos algun argumento, se lo pasamos a la funcion c() (o wrapper)\n",
    "    def wrapper(*args, **kwargs):  # Y esto es c()\n",
    "        print(\"Antes de ejecutar mi funcion\")\n",
    "        # guardamos la funcion func en una variable\n",
    "        resultado = func(*args, **kwargs)\n",
    "        print(\"Despues de ejecutar mi funcion\")\n",
    "        # retornamos la ejecucion de la funcion func\n",
    "        return resultado\n",
    "    # y retornamos la ejecucion del wrapper\n",
    "    return wrapper  # aca retornamos c()"
   ]
  },
  {
   "cell_type": "code",
   "execution_count": 39,
   "id": "94b1c00f-3006-4062-b52a-c8561403a632",
   "metadata": {},
   "outputs": [
    {
     "name": "stdout",
     "output_type": "stream",
     "text": [
      "Antes de ejecutar mi funcion\n",
      "Esta es mi funcion\n",
      "Despues de ejecutar mi funcion\n"
     ]
    }
   ],
   "source": [
    "# ahora aplicamos el decorador a mi_funcion\n",
    "# en python es poniendo antes de la funcion un arroba y el nombre del decorador\n",
    "\n",
    "@mi_decorador\n",
    "def mi_funcion():\n",
    "    print(\"Esta es mi funcion\")\n",
    "\n",
    "\n",
    "# Y la ejecutamos\n",
    "mi_funcion()"
   ]
  },
  {
   "cell_type": "markdown",
   "id": "45d324cf-3549-45b1-9cb5-a14de087c667",
   "metadata": {},
   "source": [
    "Aqui se nota claramente que hemos \"envuelto\" a la funcion que queriamos decorar. Pero si es una funcion que hace algo y retorna nulo, solo veriamos los mensajes del wrapper.  \n",
    "Un ejemplo clasico de la utilidad de los decoradores esta en el de medir el tiempo de ejecucion de un metodo o de  una funcion.  \n",
    "Veamos un ejemplo de ello."
   ]
  },
  {
   "cell_type": "code",
   "execution_count": 40,
   "id": "9391c102-a952-43b5-8f9e-659af7bb1699",
   "metadata": {},
   "outputs": [
    {
     "name": "stdout",
     "output_type": "stream",
     "text": [
      "Tardo en total 1.0002555847167969 segundos\n",
      "30\n"
     ]
    }
   ],
   "source": [
    "# Hagamos un decorador que mide el tiempo de ejecucion\n",
    "# como vamos a usar medicion del tiempo importamos es modulo\n",
    "import time\n",
    "\n",
    "# Ahora la tarea\n",
    "def tarda(func):\n",
    "    def wrapper(*args, **kwargs):\n",
    "        # tomamos el momento en el que arrancamos\n",
    "        comienza = time.time()\n",
    "        # guaradamos la ejecucion d efunc en una variable\n",
    "        resultado = func(*args, **kwargs)\n",
    "        # calculamos el tiempo transcurrido\n",
    "        total = time.time() - comienza\n",
    "        # imprimimos los segundos de diferencia\n",
    "        print('Tardo en total', total, 'segundos' )\n",
    "        # retornamos la ejecucion d ela funcion\n",
    "        return resultado\n",
    "    # Y retornamos el wrapper\n",
    "    return wrapper\n",
    "\n",
    "\n",
    "@tarda\n",
    "def suma(a, b):\n",
    "    # como esta funcion es muy rapida, ponemos el programa a dormir un segundo\n",
    "    time.sleep(1)\n",
    "    return a + b\n",
    "\n",
    "# y lo ejecutamos\n",
    "print(suma(10, 20))"
   ]
  },
  {
   "cell_type": "markdown",
   "id": "7288d031-25f4-4947-b241-1d11d64bd04c",
   "metadata": {},
   "source": [
    "Vamos a ver que los decoradores se usan muchisimo, sobre todo en desarrollo web, ya que permiten que las funciones que hagamos respondan a las distintas formas de solicitarlas que tienen los servidores web (verbos HTTP si quieren consultar)  \n",
    "O para bloquear o modificar el comportamiento de una funcion segun el usuario este logeado o no, segun su rol, etc.  \n",
    "Los decoradores normalmente se escriben como una clase con solo un metodo que se llama igual que la clase. Podran ver que hay disponibles una enorme cantidad de decoradores ya tanto en la instalacion base de python como en distintos modulos.  \n",
    "Y como ya dije, los frameworks de desarrollo web vienen con todos los necesarios.  Asi que es dificil encontrar la necesidad de escribir nuestros propios decoradores. Pero no esta mal saber como funcionan.  \n",
    "Los decoradores se pueden aplicar a funciones ya decoradas, y su ejecucion es en orden INVERSO al que aparecen en el codigo.  "
   ]
  },
  {
   "cell_type": "code",
   "execution_count": null,
   "id": "e985a0b2-a618-4711-b5ba-62ec3fed3462",
   "metadata": {},
   "outputs": [],
   "source": [
    "# No ejecutar!! No estan definidos los decoradores\n",
    "# ejemplo de utilizacion de dos decoradores\n",
    "\n",
    "@segundo_decorador\n",
    "@primer_decorador\n",
    "def funcion():\n",
    "    pass"
   ]
  }
 ],
 "metadata": {
  "kernelspec": {
   "display_name": "Python 3 (ipykernel)",
   "language": "python",
   "name": "python3"
  },
  "language_info": {
   "codemirror_mode": {
    "name": "ipython",
    "version": 3
   },
   "file_extension": ".py",
   "mimetype": "text/x-python",
   "name": "python",
   "nbconvert_exporter": "python",
   "pygments_lexer": "ipython3",
   "version": "3.11.5"
  }
 },
 "nbformat": 4,
 "nbformat_minor": 5
}
