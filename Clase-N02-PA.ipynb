{
 "cells": [
  {
   "cell_type": "markdown",
   "id": "cce8d0b1-b7fe-45bf-ad92-f5cbda154df8",
   "metadata": {},
   "source": [
    "## Practica POO\n",
    "\n",
    "Vamos a implementar los 4 pilares de la programacion orientada a objetos con un ejemplo practico.  "
   ]
  },
  {
   "cell_type": "markdown",
   "id": "05025486-07d1-4b77-a63c-c955399e7982",
   "metadata": {},
   "source": [
    "<h1 style=\"color:blue\">Abstraccion</h1>."
   ]
  },
  {
   "cell_type": "markdown",
   "id": "9cd97f0d-7360-435a-bec6-8b56bebec76f",
   "metadata": {},
   "source": [
    "Vamos a imaginarnos un juego. Todo juego tiene los personajes que participan en el.  \n",
    "Abstraemos lo que creemos que vamos a necesitar para este juego y desarrollaremos la clase.  "
   ]
  },
  {
   "cell_type": "markdown",
   "id": "960743a7-8874-4e4a-ab19-085f404e983e",
   "metadata": {},
   "source": [
    "<table style=\"border: 1px solid black;\">\n",
    "  <tr>\n",
    "    <th style=\"border: 1px solid black ;\">Personaje</th>\n",
    "  </tr>\n",
    "  <tr>\n",
    "    <td style=\"border: 1px solid black ;\">.nombre<br>.fuerza<br>.inteligencia<br>.defensa<br>vida</td>\n",
    "  </tr>\n",
    "  <tr>\n",
    "    <td style=\"border: 1px solid black ;\">.atributos()<br>.subir_nivel()<br>.esta_vivo()<br>.atacar()</td>\n",
    "  </tr>\n",
    "</table>"
   ]
  },
  {
   "cell_type": "markdown",
   "id": "419fcdb1-2410-4ff1-ba7e-ac926646f976",
   "metadata": {},
   "source": [
    "Con esta idea base, vamos a empezar a hacer el modelado en python.  "
   ]
  },
  {
   "cell_type": "code",
   "execution_count": 72,
   "id": "08f7d042-6044-4e12-b8a3-96a84e5e645a",
   "metadata": {},
   "outputs": [],
   "source": [
    "# Creamos la clase python mas sencilla que se nos pueda ocurrir\n",
    "class Personaje:\n",
    "    \"\"\" Clase para un personaje generico de un juego\"\"\"\n",
    "    pass"
   ]
  },
  {
   "cell_type": "code",
   "execution_count": 73,
   "id": "37ae2a7f-3ac3-4b10-a981-db71fcd0bd15",
   "metadata": {},
   "outputs": [
    {
     "name": "stdout",
     "output_type": "stream",
     "text": [
      "<__main__.Personaje object at 0x7fa1c2cac810>\n"
     ]
    }
   ],
   "source": [
    "# La instanciamos e imprimimos\n",
    "mi_jugador = Personaje()\n",
    "print(mi_jugador)"
   ]
  },
  {
   "cell_type": "markdown",
   "id": "08181cf6-5755-4e24-9a43-ba112debce74",
   "metadata": {},
   "source": [
    "Eso de arriba quiere decir que mi_jugador es un **objeto** y que ocupa una direccion de memoria en la computadora.  "
   ]
  },
  {
   "cell_type": "code",
   "execution_count": 74,
   "id": "3f715007-1c0b-41a5-a3fb-ee476d64fdeb",
   "metadata": {},
   "outputs": [],
   "source": [
    "# Ahora re-escribimos la clase y le agregamos los atributos\n",
    "# con algunos valores por defecto\n",
    "\n",
    "class Personaje:\n",
    "    \"\"\" Clase para un personaje generico de un juego\"\"\"\n",
    "\n",
    "    # Atributos\n",
    "    nombre = \"Ninguno\"\n",
    "    fuerza = 0\n",
    "    inteligencia = 0\n",
    "    defensa = 0\n",
    "    vida = 0"
   ]
  },
  {
   "cell_type": "code",
   "execution_count": 75,
   "id": "a2b137c2-dafd-45d8-b771-465703dccf76",
   "metadata": {},
   "outputs": [
    {
     "name": "stdout",
     "output_type": "stream",
     "text": [
      "Ninguno\n",
      "0\n"
     ]
    }
   ],
   "source": [
    "# Y la volvemos a instanciar\n",
    "# Pero ahora imprimimos algunos atributo a traves de la sintaxis .punto\n",
    "mi_jugador = Personaje()\n",
    "print(mi_jugador.nombre)\n",
    "print(mi_jugador.fuerza)"
   ]
  },
  {
   "cell_type": "code",
   "execution_count": 76,
   "id": "181f424f-2cb5-45ae-97a3-9d6448f2889b",
   "metadata": {},
   "outputs": [
    {
     "name": "stdout",
     "output_type": "stream",
     "text": [
      "Raul\n",
      "10\n"
     ]
    }
   ],
   "source": [
    "# Y si modificamos algunos atributos?\n",
    "mi_jugador.nombre = \"Raul\"\n",
    "mi_jugador.fuerza = 10\n",
    "print(mi_jugador.nombre)\n",
    "print(mi_jugador.fuerza)"
   ]
  },
  {
   "cell_type": "markdown",
   "id": "db62e08b-4480-44e3-9ea5-70801d8d92e0",
   "metadata": {},
   "source": [
    "Notaron que no *construimos* al objeto?  \n",
    "Que no usamos el metodo **\\_\\_init\\_\\_**?  \n",
    "\n",
    "Bueno, vamos a hacer las cosas como se debe.  "
   ]
  },
  {
   "cell_type": "code",
   "execution_count": 77,
   "id": "3e2cf79b-4df3-4352-a017-58c191dd008e",
   "metadata": {},
   "outputs": [],
   "source": [
    "# Nuevamente re-escribimos la clase y le agregamos el constructor\n",
    "# dejando los atributos por defecto\n",
    "\n",
    "class Personaje:\n",
    "    \"\"\" Clase para un personaje generico de un juego\"\"\"\n",
    "\n",
    "    # atributos\n",
    "    nombre = \"Ninguno\"\n",
    "    fuerza = 0\n",
    "    inteligencia = 0\n",
    "    defensa = 0\n",
    "    vida = 0\n",
    "\n",
    "    # Metodo constructor\n",
    "    def __init__(self, nombre, fuerza, inteligencia, defensa, vida):\n",
    "        self.nombre = nombre\n",
    "        self.fuerza = fuerza\n",
    "        self.inteligencia = inteligencia\n",
    "        self.defensa = defensa\n",
    "        self.vida = vida"
   ]
  },
  {
   "cell_type": "code",
   "execution_count": 78,
   "id": "18c58eb1-5ff6-4e74-81b6-1079a4bd72e8",
   "metadata": {},
   "outputs": [
    {
     "ename": "TypeError",
     "evalue": "Personaje.__init__() missing 5 required positional arguments: 'nombre', 'fuerza', 'inteligencia', 'defensa', and 'vida'",
     "output_type": "error",
     "traceback": [
      "\u001b[0;31m---------------------------------------------------------------------------\u001b[0m",
      "\u001b[0;31mTypeError\u001b[0m                                 Traceback (most recent call last)",
      "Cell \u001b[0;32mIn[78], line 2\u001b[0m\n\u001b[1;32m      1\u001b[0m \u001b[38;5;66;03m# Ahora instanciamos\u001b[39;00m\n\u001b[0;32m----> 2\u001b[0m mi_jugador \u001b[38;5;241m=\u001b[39m \u001b[43mPersonaje\u001b[49m\u001b[43m(\u001b[49m\u001b[43m)\u001b[49m\n",
      "\u001b[0;31mTypeError\u001b[0m: Personaje.__init__() missing 5 required positional arguments: 'nombre', 'fuerza', 'inteligencia', 'defensa', and 'vida'"
     ]
    }
   ],
   "source": [
    "# Ahora instanciamos\n",
    "mi_jugador = Personaje()"
   ]
  },
  {
   "cell_type": "markdown",
   "id": "b0bd603d-f61a-4a2b-bc70-a99f9031a850",
   "metadata": {},
   "source": [
    "Este error es porque, como siempre se ejecuta el **\\_\\_init\\_\\_** al instanciar y este requiere de **argumentos** que no estan, la funcion reporta esa carencia"
   ]
  },
  {
   "cell_type": "code",
   "execution_count": 80,
   "id": "d1cd7460-f9cc-4cd8-be28-f42a2d139f68",
   "metadata": {},
   "outputs": [
    {
     "name": "stdout",
     "output_type": "stream",
     "text": [
      "Raul\n",
      "10\n",
      "1\n"
     ]
    }
   ],
   "source": [
    "# Instanciamos como pide __init__\n",
    "mi_jugador = Personaje(\"Raul\", 10, 1, 5, 100)\n",
    "# Imprimimos a ver si los valores fueron tomados correctamente\n",
    "print(mi_jugador.nombre)\n",
    "print(mi_jugador.fuerza)\n",
    "print(mi_jugador.inteligencia)"
   ]
  },
  {
   "cell_type": "markdown",
   "id": "1776a15c-8f1d-4434-92ab-8c99b6c52854",
   "metadata": {},
   "source": [
    "Si somos detallistas notariamos que no hace falta la declaracion de los atributos al principio de la clase, ya que ellos se pueden *inicializar* en los argumentos de la funcion.  \n",
    "E incluso, **\\_\\_init\\_\\_** tambien puede iniciar otros calculados (o no) a partir de los argumentos pasados a la funcion.  "
   ]
  },
  {
   "cell_type": "code",
   "execution_count": 81,
   "id": "a0a63d87-9379-4f73-966a-fd9d90b8385b",
   "metadata": {},
   "outputs": [],
   "source": [
    "# Le dejamos todo el trabajo a __init__\n",
    "# Notemos el detalle de que los argumentos con valores por defecto \n",
    "# deben ir **DESPUES** de los que no tienen valor por defecto (posicionales)\n",
    "# dentro del parentesis (self)\n",
    "class Personaje:\n",
    "    \"\"\" Clase para un personaje generico de un juego\"\"\"\n",
    "\n",
    "    # Metodo constructor\n",
    "    def __init__(self, nombre=\"Ninguno\", fuerza=10, inteligencia=5,\n",
    "                 defensa=10, vida=100):\n",
    "        self.nombre = nombre\n",
    "        self.fuerza = fuerza\n",
    "        self.inteligencia = inteligencia\n",
    "        self.defensa = defensa\n",
    "        self.vida = vida\n",
    "        # Este es un atibuto calculado\n",
    "        self.aguante = fuerza * vida"
   ]
  },
  {
   "cell_type": "code",
   "execution_count": 82,
   "id": "5d07815d-0f73-49e9-a457-2a7ca51a30ee",
   "metadata": {},
   "outputs": [
    {
     "name": "stdout",
     "output_type": "stream",
     "text": [
      "Raul\n",
      "10\n",
      "100\n",
      "1000\n"
     ]
    }
   ],
   "source": [
    "# Instanciamos como pide __init__(ojo que esta redefinido)\n",
    "mi_jugador = Personaje(\"Raul\", 10, 1, 5, 100)\n",
    "# Imprimimos a ver si los valores fueron tomados correctamente\n",
    "print(mi_jugador.nombre)\n",
    "print(mi_jugador.fuerza)\n",
    "print(mi_jugador.vida)\n",
    "print(mi_jugador.aguante)"
   ]
  },
  {
   "cell_type": "markdown",
   "id": "e8313260-f4cf-4180-b76e-cd6a8f8d350b",
   "metadata": {},
   "source": [
    "Como ya nos cansamos de tantos prints despues de instanciar, vamos a crear un metrodo que nos muestre los atributos del objeto con un formato claro"
   ]
  },
  {
   "cell_type": "code",
   "execution_count": 83,
   "id": "1dd92be4-ad64-4b24-9cf9-3532cae4c9d3",
   "metadata": {},
   "outputs": [],
   "source": [
    "# Creamos un metodo para mostrar las caracteristicas del personaje\n",
    "class Personaje:\n",
    "    \"\"\" Clase para un personaje generico de un juego\"\"\"\n",
    "\n",
    "    # Metodo constructor\n",
    "    def __init__(self, nombre=\"Ninguno\", fuerza=10, inteligencia=5,\n",
    "                 defensa=10, vida=100):\n",
    "        self.nombre = nombre\n",
    "        self.fuerza = fuerza\n",
    "        self.inteligencia = inteligencia\n",
    "        self.defensa = defensa\n",
    "        self.vida = vida\n",
    "        # Este es un atibuto calculado\n",
    "        self.aguante = fuerza * vida\n",
    "\n",
    "    def atributos(self):\n",
    "        print(self.nombre, \":\", sep=\"\")\n",
    "        print(\"Fuerza:\", self.fuerza)\n",
    "        print(\"Inteligencia:\", self.inteligencia)\n",
    "        print(\"Defensa:\", self.defensa)\n",
    "        print(\"Vida:\", self.vida)\n",
    "        print(\"Aguante:\", self.aguante)"
   ]
  },
  {
   "cell_type": "code",
   "execution_count": 84,
   "id": "4bbf5dcd-e201-48fb-b686-f8d68f0c8325",
   "metadata": {},
   "outputs": [
    {
     "name": "stdout",
     "output_type": "stream",
     "text": [
      "Raul:\n",
      "Fuerza: 10\n",
      "Inteligencia: 1\n",
      "Defensa: 5\n",
      "Vida: 100\n",
      "Aguante: 1000\n"
     ]
    }
   ],
   "source": [
    "# Y ahora vemos si funciona\n",
    "mi_jugador = Personaje(\"Raul\", 10, 1, 5, 100)\n",
    "mi_jugador.atributos()"
   ]
  },
  {
   "cell_type": "markdown",
   "id": "4836a6c3-342e-4f79-aab9-40beeb50970b",
   "metadata": {},
   "source": [
    "Ahora ya podemos empezar a agregarle metodos que nos permitan ir *jugando* con esta clase.  \n",
    "Si un personaje sube de nivel, se supone que debe mejorar en algunos de sus atributos.  \n",
    "Haremos que sea:\n",
    "- mas fuerte\n",
    "- mas inteligente\n",
    "- tenga mas defensa\n",
    "\n",
    "Le vamos a pasar en que valores van a aumentar esos atributos (incrementos)"
   ]
  },
  {
   "cell_type": "code",
   "execution_count": 86,
   "id": "335f6004-80a9-4283-af4d-4ebb33b7c6ca",
   "metadata": {},
   "outputs": [],
   "source": [
    "# Le agregamos un metodo para pasar de nivel\n",
    "class Personaje:\n",
    "    \"\"\" Clase para un personaje generico de un juego\"\"\"\n",
    "\n",
    "    # Metodo constructor\n",
    "    def __init__(self, nombre=\"Ninguno\", fuerza=10, inteligencia=5,\n",
    "                 defensa=10, vida=100):\n",
    "        self.nombre = nombre\n",
    "        self.fuerza = fuerza\n",
    "        self.inteligencia = inteligencia\n",
    "        self.defensa = defensa\n",
    "        self.vida = vida\n",
    "        # Este es un atibuto calculado\n",
    "        self.aguante = fuerza * vida\n",
    "\n",
    "    def atributos(self):\n",
    "        print(self.nombre, \":\", sep=\"\")\n",
    "        print(\"Fuerza:\", self.fuerza)\n",
    "        print(\"Inteligencia:\", self.inteligencia)\n",
    "        print(\"Defensa:\", self.defensa)\n",
    "        print(\"Vida:\", self.vida)\n",
    "        print(\"Aguante:\", self.aguante)\n",
    "\n",
    "    def subir_nivel(self, incr_fuerza, incr_inteligencia, incr_defensa):\n",
    "        self.fuerza += incr_fuerza\n",
    "        self.inteligencia += incr_inteligencia\n",
    "        self.defensa += incr_defensa"
   ]
  },
  {
   "cell_type": "code",
   "execution_count": 87,
   "id": "b62d52f5-3ece-49ea-accf-ff6d028763a5",
   "metadata": {},
   "outputs": [
    {
     "name": "stdout",
     "output_type": "stream",
     "text": [
      "Raul:\n",
      "Fuerza: 10\n",
      "Inteligencia: 1\n",
      "Defensa: 5\n",
      "Vida: 100\n",
      "Aguante: 1000\n",
      "\n",
      "Raul:\n",
      "Fuerza: 20\n",
      "Inteligencia: 31\n",
      "Defensa: 15\n",
      "Vida: 100\n",
      "Aguante: 1000\n"
     ]
    }
   ],
   "source": [
    "# Y ahora vemos si funciona\n",
    "mi_jugador = Personaje(\"Raul\", 10, 1, 5, 100)\n",
    "mi_jugador.atributos()\n",
    "print()  # un separador...\n",
    "mi_jugador.subir_nivel(10, 30, 10)\n",
    "mi_jugador.atributos()"
   ]
  },
  {
   "cell_type": "markdown",
   "id": "b2ea6cd6-b379-4f77-bd6d-e1a88f3f077b",
   "metadata": {
    "editable": true,
    "slideshow": {
     "slide_type": ""
    },
    "tags": []
   },
   "source": [
    "Tambien nos interesaria saber si el personaje esta vivo"
   ]
  },
  {
   "cell_type": "code",
   "execution_count": 88,
   "id": "b9b03ce3-d924-4e4c-b22e-f4e98a327ba8",
   "metadata": {},
   "outputs": [],
   "source": [
    "# Le agregamos un metodo para saber si la vida es mayor que 0\n",
    "# Y otro mara matarlo\n",
    "class Personaje:\n",
    "    \"\"\" Clase para un personaje generico de un juego\"\"\"\n",
    "\n",
    "    # Metodo constructor\n",
    "    def __init__(self, nombre=\"Ninguno\", fuerza=10, inteligencia=5,\n",
    "                 defensa=10, vida=100):\n",
    "        # Atributos de la clase\n",
    "        self.nombre = nombre\n",
    "        self.fuerza = fuerza\n",
    "        self.inteligencia = inteligencia\n",
    "        self.defensa = defensa\n",
    "        self.vida = vida\n",
    "        # Este es un atibuto calculado\n",
    "        self.aguante = fuerza * vida\n",
    "\n",
    "    # Metodo que informa el estado del objeto\n",
    "    def atributos(self):\n",
    "        print(self.nombre, \":\", sep=\"\")\n",
    "        print(\"Fuerza:\", self.fuerza)\n",
    "        print(\"Inteligencia:\", self.inteligencia)\n",
    "        print(\"Defensa:\", self.defensa)\n",
    "        print(\"Vida:\", self.vida)\n",
    "        print(\"Aguante:\", self.aguante)\n",
    "\n",
    "    # Metodo que incrementa valores de atributos al subir de nivel\n",
    "    def subir_nivel(self, incr_fuerza, incr_inteligencia, incr_defensa):\n",
    "        self.fuerza += incr_fuerza\n",
    "        self.inteligencia += incr_inteligencia\n",
    "        self.defensa += incr_defensa\n",
    "\n",
    "    # Metodo que informa si la vida es mayor que cero\n",
    "    def esta_vivo(self):\n",
    "        return self.vida > 0\n",
    "\n",
    "    # Metodo para matar al personaje dejando la vida en cero\n",
    "    def morir(self):\n",
    "        self.vida = 0\n",
    "        print(self.nombre, \"ha muerto!\")"
   ]
  },
  {
   "cell_type": "code",
   "execution_count": 89,
   "id": "c31f83df-fd75-4aa8-b7db-e043def5f5c8",
   "metadata": {},
   "outputs": [
    {
     "name": "stdout",
     "output_type": "stream",
     "text": [
      "True\n",
      "\n",
      "Raul ha muerto!\n",
      "\n",
      "False\n"
     ]
    }
   ],
   "source": [
    "# Lo probamos\n",
    "mi_jugador = Personaje(\"Raul\", 10, 1, 5, 100)\n",
    "print(mi_jugador.esta_vivo())\n",
    "print()  # Un separador\n",
    "mi_jugador.morir()\n",
    "print()  # Otro separador\n",
    "# Verificamos que este realmente muerto\n",
    "print(mi_jugador.esta_vivo())"
   ]
  },
  {
   "cell_type": "markdown",
   "id": "fe549e82-ffe8-4a48-8aaa-ca8abf43573b",
   "metadata": {},
   "source": [
    "En este momento tenemos que empezar a interactuar con otros personajes.  \n",
    "Lo primero que podemos ver es como dañar a otro personaje (Ya que en este juego debemos combatir con otros)  \n",
    "Para probarlo, vamos a tener que instanciar OTRO personaje (el enemigo)   "
   ]
  },
  {
   "cell_type": "code",
   "execution_count": 90,
   "id": "4c053ee1-f1d9-4aaa-b780-01621f4b21ab",
   "metadata": {},
   "outputs": [],
   "source": [
    "# Le agregamos un metodo para saber si la vida es mayor que 0\n",
    "# Y otro mara matarlo\n",
    "class Personaje:\n",
    "    \"\"\" Clase para un personaje generico de un juego\"\"\"\n",
    "\n",
    "    # Metodo constructor\n",
    "    def __init__(self, nombre=\"Ninguno\", fuerza=10, inteligencia=5,\n",
    "                 defensa=10, vida=100):\n",
    "        # Atributos de la clase\n",
    "        self.nombre = nombre\n",
    "        self.fuerza = fuerza\n",
    "        self.inteligencia = inteligencia\n",
    "        self.defensa = defensa\n",
    "        self.vida = vida\n",
    "        # Este es un atibuto calculado\n",
    "        self.aguante = fuerza * vida\n",
    "\n",
    "    # Metodo que informa el estado del objeto\n",
    "    def atributos(self):\n",
    "        print(self.nombre, \":\", sep=\"\")\n",
    "        print(\"Fuerza:\", self.fuerza)\n",
    "        print(\"Inteligencia:\", self.inteligencia)\n",
    "        print(\"Defensa:\", self.defensa)\n",
    "        print(\"Vida:\", self.vida)\n",
    "        print(\"Aguante:\", self.aguante)\n",
    "\n",
    "    # Metodo que incrementa valores de atributos al subir de nivel\n",
    "    def subir_nivel(self, incr_fuerza, incr_inteligencia, incr_defensa):\n",
    "        self.fuerza += incr_fuerza\n",
    "        self.inteligencia += incr_inteligencia\n",
    "        self.defensa += incr_defensa\n",
    "\n",
    "    # Metodo que informa si la vida es mayor que cero\n",
    "    def esta_vivo(self):\n",
    "        return self.vida > 0\n",
    "\n",
    "    # Metodo para matar al personaje dejando la vida en cero\n",
    "    def morir(self):\n",
    "        self.vida = 0\n",
    "        print(self.nombre, \"ha muerto!\")\n",
    "\n",
    "    # Metodo que informa del daño ocasionado al enemigo\n",
    "    # El enemigo resiste con su *defensa* al ataque que hacemos con nuestra *fuerza*\n",
    "    def danio(self, enemigo):\n",
    "        return self.fuerza - enemigo.defensa"
   ]
  },
  {
   "cell_type": "code",
   "execution_count": 92,
   "id": "e31d3bc2-2dba-43e7-bc30-ec1119837c86",
   "metadata": {},
   "outputs": [
    {
     "name": "stdout",
     "output_type": "stream",
     "text": [
      "5\n"
     ]
    }
   ],
   "source": [
    "# Aca es donde tenemos que prestar atencion\n",
    "# creamos nuestro personaje\n",
    "mi_jugador = Personaje(\"Raul\", 10, 1, 5, 100)\n",
    "# Ahora creamos a un enemigo\n",
    "mi_enemigo = Personaje(\"Santiago\", 10, 5, 5, 100)\n",
    "# Probamos si el daño es correcto 10 - 5 = 5\n",
    "print(mi_jugador.danio(mi_enemigo))"
   ]
  },
  {
   "cell_type": "markdown",
   "id": "40e2be21-1385-445f-b282-0c8bf94ad5a0",
   "metadata": {},
   "source": [
    "Ahora que sabemos el daño que podemos infligir, ataquemos a nuestro enemigo!!!!  \n",
    "Lo haremos restandole a su vida el daño provocado.  \n",
    "Agregamos un metodo nuevo al personaje"
   ]
  },
  {
   "cell_type": "code",
   "execution_count": 93,
   "id": "e9ba7f3e-63cb-43a0-a1ac-6c2143d08340",
   "metadata": {},
   "outputs": [],
   "source": [
    "# Le agregamos un metodo para saber si la vida es mayor que 0\n",
    "# Y otro mara matarlo\n",
    "class Personaje:\n",
    "    \"\"\" Clase para un personaje generico de un juego\"\"\"\n",
    "\n",
    "    # Metodo constructor\n",
    "    def __init__(self, nombre=\"Ninguno\", fuerza=10, inteligencia=5,\n",
    "                 defensa=10, vida=100):\n",
    "        # Atributos de la clase\n",
    "        self.nombre = nombre\n",
    "        self.fuerza = fuerza\n",
    "        self.inteligencia = inteligencia\n",
    "        self.defensa = defensa\n",
    "        self.vida = vida\n",
    "        # Este es un atibuto calculado\n",
    "        self.aguante = fuerza * vida\n",
    "\n",
    "    # Metodo que informa el estado del objeto\n",
    "    def atributos(self):\n",
    "        print(self.nombre, \":\", sep=\"\")\n",
    "        print(\"Fuerza:\", self.fuerza)\n",
    "        print(\"Inteligencia:\", self.inteligencia)\n",
    "        print(\"Defensa:\", self.defensa)\n",
    "        print(\"Vida:\", self.vida)\n",
    "        print(\"Aguante:\", self.aguante)\n",
    "\n",
    "    # Metodo que incrementa valores de atributos al subir de nivel\n",
    "    def subir_nivel(self, incr_fuerza, incr_inteligencia, incr_defensa):\n",
    "        self.fuerza += incr_fuerza\n",
    "        self.inteligencia += incr_inteligencia\n",
    "        self.defensa += incr_defensa\n",
    "\n",
    "    # Metodo que informa si la vida es mayor que cero\n",
    "    def esta_vivo(self):\n",
    "        return self.vida > 0\n",
    "\n",
    "    # Metodo para matar al personaje dejando la vida en cero\n",
    "    def morir(self):\n",
    "        self.vida = 0\n",
    "        print(self.nombre, \"ha muerto!\")\n",
    "\n",
    "    # Metodo que informa del daño ocasionado al enemigo\n",
    "    # El enemigo resiste con su *defensa* al ataque que hacemos con nuestra *fuerza*\n",
    "    def danio(self, enemigo):\n",
    "        return self.fuerza - enemigo.defensa\n",
    "\n",
    "    # Metodo para atacar al enemigo quitandole vida\n",
    "    def atacar(self, enemigo):\n",
    "        # calculamos el daño\n",
    "        inflijido = self.danio(enemigo)\n",
    "        # se lo restamos a la vida del enemigo e informamos\n",
    "        enemigo.vida -= inflijido\n",
    "        print(self.nombre, \"le quito\", inflijido, \"puntos de vida a\", enemigo.nombre)\n",
    "        # Veamos si el enemigo sigue vivo despues del ataque\n",
    "        if enemigo.esta_vivo():\n",
    "            print(\"La vida de\", enemigo.nombre, \"es de\", enemigo.vida, \"puntos\")\n",
    "        else:\n",
    "            enemigo.morir()"
   ]
  },
  {
   "cell_type": "code",
   "execution_count": 94,
   "id": "146dbdf9-9c2f-4c08-8bf1-a2c2fefff7b7",
   "metadata": {},
   "outputs": [
    {
     "name": "stdout",
     "output_type": "stream",
     "text": [
      "Raul le quito 5 puntos de vida a Santiago\n",
      "La vida de Santiago es de 10 puntos\n"
     ]
    }
   ],
   "source": [
    "# creamos nuestro personaje\n",
    "mi_jugador = Personaje(\"Raul\", 10, 1, 5, 100)\n",
    "# Ahora creamos a un enemigo\n",
    "# mi_enemigo = Personaje(\"Santiago\", 10, 5, 5, 100)\n",
    "mi_enemigo = Personaje(\"Santiago\", 10, 5, 5, 15)\n",
    "# Lo atacamos\n",
    "mi_jugador.atacar(mi_enemigo)"
   ]
  },
  {
   "cell_type": "markdown",
   "id": "7887eb87-c9d3-4dae-b9e6-6da38510b729",
   "metadata": {},
   "source": [
    "<h1 style=\"color:blue\"> Encapsulacion</h1>"
   ]
  },
  {
   "cell_type": "markdown",
   "id": "cd4823aa-f654-4b14-b224-04a9e5167ec3",
   "metadata": {},
   "source": [
    "Todo esto esta muy bien, casi que ya podriamos diseñar un juego haciendo interactuar a algunos personajes.  \n",
    "Pero no estamos respetando el pilar de *encapsulacion* Hay atributos muy importantes de la instancia que no deberian ser accesibles desde otra instancia (escribamos un metodo que reste 10000000 en daño y siempre ganaremos...)  \n",
    "Python tiene una forma *ortografica* (en forma escrita) de hacer inaccesible tanto a atributos como metodos desde fuera de la clase.  \n",
    "Se basa en poner dos guiones bajos adelante del nombre de variables y metodos"
   ]
  },
  {
   "cell_type": "code",
   "execution_count": 95,
   "id": "9fb2cc13-107d-4890-b47d-5c82e3bca868",
   "metadata": {},
   "outputs": [],
   "source": [
    "# Hacemos todo privado\n",
    "class Personaje:\n",
    "    \"\"\" Clase para un personaje generico de un juego\"\"\"\n",
    "\n",
    "    # Metodo constructor\n",
    "    def __init__(self, nombre=\"Ninguno\", fuerza=10, inteligencia=5,\n",
    "                 defensa=10, vida=100):\n",
    "        # Atributos de la clase vease el doble guion bajo\n",
    "        self.__nombre = nombre\n",
    "        self.__fuerza = fuerza\n",
    "        self.__inteligencia = inteligencia\n",
    "        self.__defensa = defensa\n",
    "        self.__vida = vida\n",
    "        # Este es un atibuto calculado\n",
    "        self.__aguante = fuerza * vida\n",
    "\n",
    "    # Metodo que informa el estado del objeto\n",
    "    def atributos(self):\n",
    "        print(self.__nombre, \":\", sep=\"\")\n",
    "        print(\"Fuerza:\", self.__fuerza)\n",
    "        print(\"Inteligencia:\", self.__inteligencia)\n",
    "        print(\"Defensa:\", self.__defensa)\n",
    "        print(\"Vida:\", self.__vida)\n",
    "        print(\"Aguante:\", self.__aguante)\n",
    "\n",
    "    # Metodo que incrementa valores de atributos al subir de nivel\n",
    "    def subir_nivel(self, incr_fuerza, incr_inteligencia, incr_defensa):\n",
    "        self.__fuerza += incr_fuerza\n",
    "        self.__inteligencia += incr_inteligencia\n",
    "        self.__defensa += incr_defensa\n",
    "\n",
    "    # Metodo que informa si la vida es mayor que cero\n",
    "    def esta_vivo(self):\n",
    "        return self.__vida > 0\n",
    "\n",
    "    # Metodo para matar al personaje dejando la vida en cero\n",
    "    # El metodo es PRIVADO\n",
    "    def __morir(self):\n",
    "        self.__vida = 0\n",
    "        print(self.__nombre, \"ha muerto!\")\n",
    "\n",
    "    # Metodo que informa del daño ocasionado al enemigo\n",
    "    # El enemigo resiste con su *defensa* al ataque que hacemos con nuestra *fuerza*\n",
    "    def __danio(self, enemigo):\n",
    "        return self.__fuerza - enemigo.__defensa\n",
    "\n",
    "    # Metodo para atacar al enemigo quitandole vida\n",
    "    def atacar(self, enemigo):\n",
    "        # calculamos el daño\n",
    "        inflijido = self.__danio(enemigo)\n",
    "        # se lo restamos a la vida del enemigo e informamos\n",
    "        enemigo.__vida -= inflijido\n",
    "        print(self.__nombre, \"le quito\", inflijido, \"puntos de vida a\", enemigo.__nombre)\n",
    "        # Veamos si el enemigo sigue vivo despues del ataque\n",
    "        if enemigo.__esta_vivo():\n",
    "            print(\"La vida de\", enemigo.__nombre, \"es de\", enemigo.__vida, \"puntos\")\n",
    "        else:\n",
    "            enemigo.morir()"
   ]
  },
  {
   "cell_type": "code",
   "execution_count": 96,
   "id": "4df0946e-9265-4b76-8c5f-09c05f9618fd",
   "metadata": {},
   "outputs": [
    {
     "ename": "AttributeError",
     "evalue": "'Personaje' object has no attribute 'fuerza'",
     "output_type": "error",
     "traceback": [
      "\u001b[0;31m---------------------------------------------------------------------------\u001b[0m",
      "\u001b[0;31mAttributeError\u001b[0m                            Traceback (most recent call last)",
      "Cell \u001b[0;32mIn[96], line 8\u001b[0m\n\u001b[1;32m      6\u001b[0m mi_enemigo \u001b[38;5;241m=\u001b[39m Personaje(\u001b[38;5;124m\"\u001b[39m\u001b[38;5;124mSantiago\u001b[39m\u001b[38;5;124m\"\u001b[39m, \u001b[38;5;241m10\u001b[39m, \u001b[38;5;241m5\u001b[39m, \u001b[38;5;241m5\u001b[39m, \u001b[38;5;241m5\u001b[39m)\n\u001b[1;32m      7\u001b[0m \u001b[38;5;66;03m# e intentamos imprimir su fuerzas\u001b[39;00m\n\u001b[0;32m----> 8\u001b[0m \u001b[38;5;28mprint\u001b[39m(\u001b[43mmi_jugador\u001b[49m\u001b[38;5;241;43m.\u001b[39;49m\u001b[43mfuerza\u001b[49m)\n",
      "\u001b[0;31mAttributeError\u001b[0m: 'Personaje' object has no attribute 'fuerza'"
     ]
    }
   ],
   "source": [
    "# veamos que ya no puedo acceder desde afuera de la clase a los \n",
    "# atributos *privados* \n",
    "# instanciamos la clase con atributos encapsulados\n",
    "mi_jugador = Personaje(\"Raul\", 10, 1, 5, 100)\n",
    "# Ahora creamos a un enemigo\n",
    "mi_enemigo = Personaje(\"Santiago\", 10, 5, 5, 5)\n",
    "# e intentamos imprimir su fuerzas\n",
    "print(mi_jugador.fuerza)"
   ]
  },
  {
   "cell_type": "code",
   "execution_count": 97,
   "id": "031de960-22f3-43d3-8ceb-2da8894cb9cf",
   "metadata": {},
   "outputs": [
    {
     "ename": "AttributeError",
     "evalue": "'Personaje' object has no attribute '__fuerza'",
     "output_type": "error",
     "traceback": [
      "\u001b[0;31m---------------------------------------------------------------------------\u001b[0m",
      "\u001b[0;31mAttributeError\u001b[0m                            Traceback (most recent call last)",
      "Cell \u001b[0;32mIn[97], line 2\u001b[0m\n\u001b[1;32m      1\u001b[0m \u001b[38;5;66;03m# Como no tiene el *fuerza* debe tener el *__fuerza* ¿no?\u001b[39;00m\n\u001b[0;32m----> 2\u001b[0m \u001b[38;5;28mprint\u001b[39m(\u001b[43mmi_jugador\u001b[49m\u001b[38;5;241;43m.\u001b[39;49m\u001b[43m__fuerza\u001b[49m)\n",
      "\u001b[0;31mAttributeError\u001b[0m: 'Personaje' object has no attribute '__fuerza'"
     ]
    }
   ],
   "source": [
    "# Como no tiene el *fuerza* debe tener el *__fuerza* ¿no?\n",
    "print(mi_jugador.__fuerza)"
   ]
  },
  {
   "cell_type": "code",
   "execution_count": 98,
   "id": "d535fcaa-3a5c-4382-ae3b-5c2236b82423",
   "metadata": {},
   "outputs": [
    {
     "name": "stdout",
     "output_type": "stream",
     "text": [
      "Raul:\n",
      "Fuerza: 10\n",
      "Inteligencia: 1\n",
      "Defensa: 5\n",
      "Vida: 100\n",
      "Aguante: 1000\n"
     ]
    }
   ],
   "source": [
    "# Bueno, tampoco\n",
    "# Y tampoco podemos mofificarlos\n",
    "mi_jugador.fuerza = 0\n",
    "mi_jugador.__fuerza = 0\n",
    "mi_jugador.atributos()"
   ]
  },
  {
   "cell_type": "code",
   "execution_count": 99,
   "id": "074b50b4-1c16-41b7-bbc7-95951e1c8854",
   "metadata": {},
   "outputs": [
    {
     "ename": "AttributeError",
     "evalue": "'Personaje' object has no attribute 'morir'",
     "output_type": "error",
     "traceback": [
      "\u001b[0;31m---------------------------------------------------------------------------\u001b[0m",
      "\u001b[0;31mAttributeError\u001b[0m                            Traceback (most recent call last)",
      "Cell \u001b[0;32mIn[99], line 3\u001b[0m\n\u001b[1;32m      1\u001b[0m \u001b[38;5;66;03m# Recordemos que morir() y danio() ahora son metodos PRIVADOS\u001b[39;00m\n\u001b[1;32m      2\u001b[0m \u001b[38;5;66;03m# Asi que tampoco se pueden acceder desde fuera\u001b[39;00m\n\u001b[0;32m----> 3\u001b[0m \u001b[43mmi_jugador\u001b[49m\u001b[38;5;241;43m.\u001b[39;49m\u001b[43mmorir\u001b[49m()\n",
      "\u001b[0;31mAttributeError\u001b[0m: 'Personaje' object has no attribute 'morir'"
     ]
    }
   ],
   "source": [
    "# Recordemos que morir() y danio() ahora son metodos PRIVADOS\n",
    "# Asi que tampoco se pueden acceder desde fuera\n",
    "mi_jugador.morir()"
   ]
  },
  {
   "cell_type": "code",
   "execution_count": 100,
   "id": "4990eeae-553b-41a2-b6b9-7e0a4b7afe35",
   "metadata": {},
   "outputs": [
    {
     "ename": "AttributeError",
     "evalue": "'Personaje' object has no attribute '__morir'",
     "output_type": "error",
     "traceback": [
      "\u001b[0;31m---------------------------------------------------------------------------\u001b[0m",
      "\u001b[0;31mAttributeError\u001b[0m                            Traceback (most recent call last)",
      "Cell \u001b[0;32mIn[100], line 2\u001b[0m\n\u001b[1;32m      1\u001b[0m \u001b[38;5;66;03m# Y con los dos guiones bajos?\u001b[39;00m\n\u001b[0;32m----> 2\u001b[0m \u001b[43mmi_jugador\u001b[49m\u001b[38;5;241;43m.\u001b[39;49m\u001b[43m__morir\u001b[49m()\n",
      "\u001b[0;31mAttributeError\u001b[0m: 'Personaje' object has no attribute '__morir'"
     ]
    }
   ],
   "source": [
    "# Y con los dos guiones bajos?\n",
    "mi_jugador.__morir()"
   ]
  },
  {
   "cell_type": "markdown",
   "id": "39b9be49-0387-4766-9fc7-656e6c6de46d",
   "metadata": {},
   "source": [
    "El encapsulamiento se deberia completar haciendo dos metodos por cada atributo, el metodo getter y el metodo setter.  \n",
    "Con eso ademas tendriamos alguna especie de control sobre los valores ingresados (no podria ingresar una vida negativa, por ejemplo)\n",
    "\n",
    "Pero hay un problema con todo esto, en realidad Python no tiene forma real de definir la **visibilidad** de los atributos o metodos.  \n",
    "Y hay un truco para seguir accediendo a los valores que estan ocultos tras el doble guion bajo."
   ]
  },
  {
   "cell_type": "code",
   "execution_count": 101,
   "id": "fcf870a7-bca8-43d2-b984-26bb6cbba738",
   "metadata": {},
   "outputs": [
    {
     "name": "stdout",
     "output_type": "stream",
     "text": [
      "10\n",
      "Raul:\n",
      "Fuerza: -1000\n",
      "Inteligencia: 1\n",
      "Defensa: 5\n",
      "Vida: 100\n",
      "Aguante: 1000\n"
     ]
    }
   ],
   "source": [
    "# En realidad TODOS los atributos y metodos son PUBLICOS en Python\n",
    "print(mi_jugador._Personaje__fuerza)\n",
    "mi_jugador._Personaje__fuerza = -1000\n",
    "mi_jugador.atributos()"
   ]
  },
  {
   "cell_type": "code",
   "execution_count": 102,
   "id": "997cb740-a7d6-4600-b677-54c2f6022a78",
   "metadata": {},
   "outputs": [
    {
     "name": "stdout",
     "output_type": "stream",
     "text": [
      "Raul ha muerto!\n"
     ]
    }
   ],
   "source": [
    "# Veamos un metodo supuestamente privado\n",
    "mi_jugador._Personaje__morir()"
   ]
  },
  {
   "cell_type": "markdown",
   "id": "c4599047-5424-4076-9c3d-fc74636127e7",
   "metadata": {},
   "source": [
    "Y mi enemigo sigue vivo...  \n",
    "El doble guion bajo se sigue usando. conviene dejarlo en el codigo para que nuestro yo del futuro o algun colega comprenda cuales atributos deben tener alguna consideracion especial en el programa.  \n",
    "Igual, nunca nos olvidemos de comentar todo lo que podamos. O de dejar algun documento adjunto al codigo."
   ]
  },
  {
   "cell_type": "markdown",
   "id": "8193e368-a244-40cd-9d48-ae9ca131812a",
   "metadata": {},
   "source": [
    "<h1 style=\"color:blue\">Herencia</h1>"
   ]
  },
  {
   "cell_type": "code",
   "execution_count": 103,
   "id": "6cfaa401-0017-484a-84ac-a5fd4c9b77c3",
   "metadata": {},
   "outputs": [],
   "source": [
    "# Dejamos nuestra clase Personaje con los atributos y metodos publicos\n",
    "class Personaje:\n",
    "    \"\"\" Clase para un personaje generico de un juego\"\"\"\n",
    "\n",
    "    # Metodo constructor\n",
    "    def __init__(self, nombre=\"Ninguno\", fuerza=10, inteligencia=5,\n",
    "                 defensa=10, vida=100):\n",
    "        # Atributos de la clase\n",
    "        self.nombre = nombre\n",
    "        self.fuerza = fuerza\n",
    "        self.inteligencia = inteligencia\n",
    "        self.defensa = defensa\n",
    "        self.vida = vida\n",
    "        # Este es un atibuto calculado\n",
    "        self.aguante = fuerza * vida\n",
    "\n",
    "    # Metodo que informa el estado del objeto\n",
    "    def atributos(self):\n",
    "        print(self.nombre, \":\", sep=\"\")\n",
    "        print(\"Fuerza:\", self.fuerza)\n",
    "        print(\"Inteligencia:\", self.inteligencia)\n",
    "        print(\"Defensa:\", self.defensa)\n",
    "        print(\"Vida:\", self.vida)\n",
    "        print(\"Aguante:\", self.aguante)\n",
    "\n",
    "    # Metodo que incrementa valores de atributos al subir de nivel\n",
    "    def subir_nivel(self, incr_fuerza, incr_inteligencia, incr_defensa):\n",
    "        self.fuerza += incr_fuerza\n",
    "        self.inteligencia += incr_inteligencia\n",
    "        self.defensa += incr_defensa\n",
    "\n",
    "    # Metodo que informa si la vida es mayor que cero\n",
    "    def esta_vivo(self):\n",
    "        return self.vida > 0\n",
    "\n",
    "    # Metodo para matar al personaje dejando la vida en cero\n",
    "    def morir(self):\n",
    "        self.vida = 0\n",
    "        print(self.nombre, \"ha muerto!\")\n",
    "\n",
    "    # Metodo que informa del daño ocasionado al enemigo\n",
    "    # El enemigo resiste con su *defensa* al ataque que hacemos con nuestra *fuerza*\n",
    "    def danio(self, enemigo):\n",
    "        return self.fuerza - enemigo.defensa\n",
    "\n",
    "    # Metodo para atacar al enemigo quitandole vida\n",
    "    def atacar(self, enemigo):\n",
    "        # calculamos el daño\n",
    "        inflijido = self.danio(enemigo)\n",
    "        # se lo restamos a la vida del enemigo e informamos\n",
    "        enemigo.vida -= inflijido\n",
    "        print(self.nombre, \"le quito\", inflijido, \"puntos de vida a\", enemigo.nombre)\n",
    "        # Veamos si el enemigo sigue vivo despues del ataque\n",
    "        if enemigo.esta_vivo():\n",
    "            print(\"La vida de\", enemigo.nombre, \"es de\", enemigo.vida, \"puntos\")\n",
    "        else:\n",
    "            enemigo.morir()"
   ]
  },
  {
   "cell_type": "markdown",
   "id": "ff060d49-7382-4df4-9e82-db01719f79a6",
   "metadata": {},
   "source": [
    "Como **Personaje** es muy generico vamos a crear un personaje que si pelea, el **Guerrero**  \n",
    "Este tambien tiene todos los metodos y atributos de Personaje, asi que para que vamos a escribirlo de nuevo?  \n",
    "Usamos la herencia y dejamos que tenga todo el codigo que ya escribimos.  "
   ]
  },
  {
   "cell_type": "code",
   "execution_count": 104,
   "id": "f706b24a-aa04-4825-af2a-5d4b03a81a0c",
   "metadata": {},
   "outputs": [],
   "source": [
    "# Guerrero va en su propia clase\n",
    "# En teoria con esto ya deberia alcanzar ¿no?\n",
    "class Guerrero(Personaje):\n",
    "    \"\"\" Clase para los guerreros\"\"\"\n",
    "    pass"
   ]
  },
  {
   "cell_type": "code",
   "execution_count": 105,
   "id": "c1309c9b-5583-4f67-884e-cfc3d7b0531f",
   "metadata": {},
   "outputs": [
    {
     "name": "stdout",
     "output_type": "stream",
     "text": [
      "Ninguno:\n",
      "Fuerza: 10\n",
      "Inteligencia: 5\n",
      "Defensa: 10\n",
      "Vida: 100\n",
      "Aguante: 1000\n"
     ]
    }
   ],
   "source": [
    "# Veamos los atributos\n",
    "aragorn = Guerrero()  # Se ejecuta el __init__ de Personaje\n",
    "aragorn.atributos()"
   ]
  },
  {
   "cell_type": "markdown",
   "id": "7a56ada5-0b7b-4215-9e09-2376f8cf094b",
   "metadata": {},
   "source": [
    "Como tenemos valores por defecto en el constructor, esto funciona bastante bien.  \n",
    "Ahora **Guerrero**  es lo mismo que **Personaje** lo cual no tiene mucho sentido.  \n",
    "Asi que vamos a darle un arma especifica como nuevo atributo de la clase, la espada, la cual va a tener un poder.  \n",
    "Tendriamos que escribir un nuevo **\\_\\_init\\_\\_** desde cero. Mejor usar el de la clase padre que ya esta escrito.  "
   ]
  },
  {
   "cell_type": "code",
   "execution_count": 107,
   "id": "460dfec9-4841-4d2f-a866-b6c1700f5c95",
   "metadata": {},
   "outputs": [],
   "source": [
    "# Usamos el __init__ de la clase padre\n",
    "class Guerrero(Personaje):\n",
    "    \"\"\" Clase para los guerreros\"\"\"\n",
    "\n",
    "    def __init__(self, nombre=\"Ninguno\", fuerza=10, inteligencia=5,\n",
    "                 defensa=10, vida=100, espada=10):  # Agregamos el atributo de espada\n",
    "        Personaje.__init__(self, nombre, fuerza, inteligencia, defensa, vida)\n",
    "        self.espada = espada"
   ]
  },
  {
   "cell_type": "code",
   "execution_count": null,
   "id": "f2567c7d-9ab4-4ada-8fce-f199f04b5337",
   "metadata": {},
   "outputs": [],
   "source": [
    "# ejemplo mas sencillo\n",
    "class hijo(padre):\n",
    "    def __init__(self, dato_padre, dato_hijo):\n",
    "        padre.__init__(self, dato_padre)\n",
    "        self.dato_hijo = dato_hijo"
   ]
  },
  {
   "cell_type": "markdown",
   "id": "b2f7a49e-8405-4f12-8466-ea41ec97f264",
   "metadata": {},
   "source": [
    "Si hacemos un simil con la vida cotidiana, es como que de una compra muy grande en el supermercado el hijo le pide al padre se encargue de lo mas pesado mientras él carga sus dulces y juguetes livianos.  \n",
    "Todos lo hemos hecho alguna vez..."
   ]
  },
  {
   "cell_type": "code",
   "execution_count": 108,
   "id": "bbf9fdd4-3ecb-460c-ab58-62f01629c810",
   "metadata": {},
   "outputs": [
    {
     "name": "stdout",
     "output_type": "stream",
     "text": [
      "Aragorn:\n",
      "Fuerza: 50\n",
      "Inteligencia: 15\n",
      "Defensa: 20\n",
      "Vida: 100\n",
      "Aguante: 5000\n",
      "5\n"
     ]
    }
   ],
   "source": [
    "# Vamos a crear un guerrro\n",
    "aragorn = Guerrero(\"Aragorn\", 50, 15, 20, 100, 5)\n",
    "# Veamos si estan todos los atributos\n",
    "aragorn.atributos()  # no incorpora el ultimo atributo\n",
    "print(aragorn.espada)  # lo imprimimos por separado"
   ]
  },
  {
   "cell_type": "markdown",
   "id": "c0f5d761-1040-429e-b3cd-475948046c97",
   "metadata": {},
   "source": [
    "Tenemos que reescribir el metodo atributos() tambien.  \n",
    "Pero notemos un problema mas que tenemos.  \n",
    "Para emplear los metodos de la clase padre tenemos que usar el nombre de esa clase padre.  \n",
    "Que ahora se llama **Personaje** pero que en un futuro se podria llamar **MejorPersonaje** porque la obtuvimos de un repositorio y es mejor para nuestra aplicacion.  \n",
    "Para no tener entonces que estar re-escribiendo todo el codigo existe el metodo **super()** que es como un alias a la clase padre.  \n",
    "Vamos a usarlo en esta implementacion."
   ]
  },
  {
   "cell_type": "code",
   "execution_count": 109,
   "id": "0e47a90b-8233-4589-a39f-1e9a1f668be8",
   "metadata": {},
   "outputs": [],
   "source": [
    "# Usamos el __init__ de la clase padre\n",
    "class Guerrero(Personaje):\n",
    "    \"\"\" Clase para los guerreros\"\"\"\n",
    "\n",
    "    # Vamos tambien a despejar un poco esto eliminando los valores por defecto\n",
    "    def __init__(self, nombre, fuerza, inteligencia, defensa, vida, espada):\n",
    "        super().__init__(nombre, fuerza, inteligencia, defensa, vida)  # No hace falta self\n",
    "        # agregamos la impresion de el poder de la espada\n",
    "        self.espada = espada\n",
    "\n",
    "    def atributos(self):\n",
    "        super().atributos()\n",
    "        print(\"Espada:\", self.espada)"
   ]
  },
  {
   "cell_type": "code",
   "execution_count": 110,
   "id": "15a9d5c3-a187-4931-b3aa-9b2239dad376",
   "metadata": {},
   "outputs": [
    {
     "name": "stdout",
     "output_type": "stream",
     "text": [
      "Aragorn:\n",
      "Fuerza: 50\n",
      "Inteligencia: 15\n",
      "Defensa: 20\n",
      "Vida: 100\n",
      "Aguante: 5000\n",
      "Espada: 5\n"
     ]
    }
   ],
   "source": [
    "# Vamos a crear un guerrro\n",
    "aragorn = Guerrero(\"Aragorn\", 50, 15, 20, 100, 5)\n",
    "# Veamos si estan todos los atributos\n",
    "aragorn.atributos()"
   ]
  },
  {
   "cell_type": "markdown",
   "id": "bd7056a1-0d75-4358-b6e3-326044557b9c",
   "metadata": {},
   "source": [
    "Hagamos un metodo interactivo.  \n",
    "Supongamos que el guerrero carga dos espadas y puede elegir con cual de ellas atacar.  \n",
    "Y aprovechemos para re-escribir el calculo del daño multiplicandolo por el poder de la espada.  "
   ]
  },
  {
   "cell_type": "code",
   "execution_count": 111,
   "id": "041382f9-87f8-4bde-9409-c9e7c1d4bebe",
   "metadata": {},
   "outputs": [],
   "source": [
    "class Guerrero(Personaje):\n",
    "    \"\"\" Clase para los guerreros\"\"\"\n",
    "\n",
    "    def __init__(self, nombre, fuerza, inteligencia, defensa, vida, espada):\n",
    "        super().__init__(nombre, fuerza, inteligencia, defensa, vida)\n",
    "        self.espada = espada\n",
    "\n",
    "    def atributos(self):\n",
    "        super().atributos()\n",
    "        print(\"Espada:\", self.espada)\n",
    "\n",
    "    # metodo para cambiar la espada\n",
    "    def cambiar_arma(self):\n",
    "        # Mostramos un mensaje, capturamos la respuesta, lo pasamos a entero y guardamos\n",
    "        eleccion = int(input(\"Elige el arma: [1] Acero, daño 8. [2] Matadragones, daño 10\"))\n",
    "        # Veamos que eligio\n",
    "        if eleccion == 1:\n",
    "            self.espada = 8\n",
    "        elif eleccion == 2:\n",
    "            self.espada = 10\n",
    "        else:\n",
    "            print(\"Debe elegir 1 o 2\")\n",
    "\n",
    "    # Reescritura danio\n",
    "    def danio(self, enemigo):\n",
    "        # Multiplica la fuerza por el poder de la espada y le resta la defensa del enemigo\n",
    "        return self.fuerza * self.espada - enemigo.defensa"
   ]
  },
  {
   "cell_type": "code",
   "execution_count": 113,
   "id": "532e85bb-0793-4754-a519-385ce02f27b6",
   "metadata": {},
   "outputs": [
    {
     "name": "stdin",
     "output_type": "stream",
     "text": [
      "Elige el arma: [1] Acero, daño 8. [2] Matadragones, daño 10 2\n"
     ]
    }
   ],
   "source": [
    "# Probemos\n",
    "aragorn = Guerrero(\"Aragorn\", 50, 15, 20, 100, 5)\n",
    "aragorn.cambiar_arma()"
   ]
  },
  {
   "cell_type": "code",
   "execution_count": 114,
   "id": "27075473-36a0-48d9-84bb-5707bf6e22f7",
   "metadata": {},
   "outputs": [
    {
     "name": "stdout",
     "output_type": "stream",
     "text": [
      "Aragorn:\n",
      "Fuerza: 50\n",
      "Inteligencia: 15\n",
      "Defensa: 20\n",
      "Vida: 100\n",
      "Aguante: 5000\n",
      "Espada: 10\n"
     ]
    }
   ],
   "source": [
    "# Habra tomado el cambio de arma?\n",
    "aragorn.atributos()"
   ]
  },
  {
   "cell_type": "markdown",
   "id": "4433b6ba-1d1f-4c0e-be7e-7f52690b1e70",
   "metadata": {},
   "source": [
    "Es por esto que separamos en funciones el daño del ataque. Asi podemos solo modificar el calculo del daño segun sea la clase.  \n",
    "  \n",
    "Ya que sabemos como hacer todo esto ¿Que tal si creamos otra clase nueva que represente a un nuevo participante de este juego?  \n",
    "Vayamos por los **Magos**"
   ]
  },
  {
   "cell_type": "code",
   "execution_count": 8,
   "id": "1ca53b66-108d-40ea-8ef0-7bab8c427c18",
   "metadata": {},
   "outputs": [],
   "source": [
    "# Como antes hereda de Personaje\n",
    "class Mago(Personaje):\n",
    "    \"\"\" Clase para los magos \"\"\"\n",
    "\n",
    "    # Ahora en vez de poder d eespada tiene poder de libro de magia\n",
    "    def __init__(self, nombre, fuerza, inteligencia, defensa, vida, libro):\n",
    "        super().__init__(nombre, fuerza, inteligencia, defensa, vida)\n",
    "        self.libro = libro\n",
    "\n",
    "    # ampliamos atributos\n",
    "    def atributos(self):\n",
    "        super().atributos()\n",
    "        print(\"Libro:\", self.libro)\n",
    "\n",
    "    # Y calculamos el nuevo daño\n",
    "    def danio(self, enemigo):\n",
    "        # ahora multiplicamos inteligencia por libro y restamos a defensa del enemigo\n",
    "        return self.inteligencia * self.libro - enemigo.defensa"
   ]
  },
  {
   "cell_type": "markdown",
   "id": "2a26a98e-81c1-441f-ba30-9e7c54bfcd14",
   "metadata": {},
   "source": [
    "Bueno, y despues de tanto codigo, ya deberiamos jugar...  \n",
    "Hagamos una partidita."
   ]
  },
  {
   "cell_type": "code",
   "execution_count": 115,
   "id": "c2d09e48-d97a-4735-aaf9-dcaf3618be5c",
   "metadata": {},
   "outputs": [],
   "source": [
    "# instanciamos los personajes\n",
    "mi_jugador = Personaje(\"Raul\", 20, 15, 10, 100)\n",
    "aragorn = Guerrero(\"Aragorn\", 20, 15, 10, 100, 5)\n",
    "gandalf = Mago(\"Gandalf\", 20, 15, 10, 100, 5)"
   ]
  },
  {
   "cell_type": "code",
   "execution_count": 116,
   "id": "b65e88e4-7fb4-4f13-9e61-33375633ae85",
   "metadata": {},
   "outputs": [
    {
     "name": "stdout",
     "output_type": "stream",
     "text": [
      "Raul:\n",
      "Fuerza: 20\n",
      "Inteligencia: 15\n",
      "Defensa: 10\n",
      "Vida: 100\n",
      "Aguante: 2000\n",
      "Aragorn:\n",
      "Fuerza: 20\n",
      "Inteligencia: 15\n",
      "Defensa: 10\n",
      "Vida: 100\n",
      "Aguante: 2000\n",
      "Espada: 5\n",
      "Gandalf:\n",
      "Fuerza: 20\n",
      "Inteligencia: 15\n",
      "Defensa: 10\n",
      "Vida: 100\n",
      "Aguante: 2000\n",
      "Libro: 5\n"
     ]
    }
   ],
   "source": [
    "# Vemos sus estadisticas\n",
    "mi_jugador.atributos()\n",
    "aragorn.atributos()\n",
    "gandalf.atributos()"
   ]
  },
  {
   "cell_type": "code",
   "execution_count": 117,
   "id": "5adab3ff-a97b-4f06-a23a-f59dbfef028f",
   "metadata": {},
   "outputs": [
    {
     "name": "stdout",
     "output_type": "stream",
     "text": [
      "Raul le quito 10 puntos de vida a Aragorn\n",
      "La vida de Aragorn es de 90 puntos\n",
      "Aragorn le quito 90 puntos de vida a Gandalf\n",
      "La vida de Gandalf es de 10 puntos\n",
      "Gandalf le quito 65 puntos de vida a Raul\n",
      "La vida de Raul es de 35 puntos\n"
     ]
    }
   ],
   "source": [
    "# Hacemos que se ataquen entre ellos\n",
    "mi_jugador.atacar(aragorn)\n",
    "aragorn.atacar(gandalf)\n",
    "gandalf.atacar(mi_jugador)"
   ]
  },
  {
   "cell_type": "code",
   "execution_count": 118,
   "id": "488d6b16-8eb4-44bb-a937-3c0e452fe367",
   "metadata": {},
   "outputs": [
    {
     "name": "stdout",
     "output_type": "stream",
     "text": [
      "Raul:\n",
      "Fuerza: 20\n",
      "Inteligencia: 15\n",
      "Defensa: 10\n",
      "Vida: 35\n",
      "Aguante: 2000\n",
      "Aragorn:\n",
      "Fuerza: 20\n",
      "Inteligencia: 15\n",
      "Defensa: 10\n",
      "Vida: 90\n",
      "Aguante: 2000\n",
      "Espada: 5\n",
      "Gandalf:\n",
      "Fuerza: 20\n",
      "Inteligencia: 15\n",
      "Defensa: 10\n",
      "Vida: 10\n",
      "Aguante: 2000\n",
      "Libro: 5\n"
     ]
    }
   ],
   "source": [
    "# Revisemos las estadisticas\n",
    "mi_jugador.atributos()\n",
    "aragorn.atributos()\n",
    "gandalf.atributos()"
   ]
  },
  {
   "cell_type": "markdown",
   "id": "6ef262ac-23e6-4704-b81d-d3b55fbdceec",
   "metadata": {},
   "source": [
    "Hasta ahora hemos visto la herencia SIMPLE ( es decir una clase hereda de una y solo una otra clase)  \n",
    "Python soporta la herencia multiple y lo veremos en breve.  "
   ]
  },
  {
   "cell_type": "markdown",
   "id": "16fe56b2-8ec5-4172-9f0b-303e6e4f220a",
   "metadata": {},
   "source": [
    "<h1 style=\"color:blue\">Polimorfismo</h1>"
   ]
  },
  {
   "cell_type": "markdown",
   "id": "a862be1b-8c14-4ca6-ad72-4d8c481dad6f",
   "metadata": {},
   "source": [
    "Ya hemos visto que el daño que produce cada uno de nuestros personajes depende de la clase a la que pertenece.  \n",
    "O sea que al ejecutar el metodo **.atacar()** (que se llama igual para todas las clases) obtenemos resultados diferentes.  \n",
    "Entonces decimos que este metodo tiene **muchas formas**  \n",
    "Esto nos da la ventaja de poder simplificar mucho el codigo cuando usamos las clases.  \n",
    "Vamos a ver que aunque tratemos de la misma manera a distintas clases, la ejecucion de un metodo nos dara resultados diferentes."
   ]
  },
  {
   "cell_type": "code",
   "execution_count": 119,
   "id": "166c54b2-0cb5-4666-838a-9d362fa7ca8b",
   "metadata": {},
   "outputs": [],
   "source": [
    "# Vamos a instanciar dos jugadores de distinta clase\n",
    "personaje_1 = Guerrero(\"Ibrahim\", 20, 10, 4, 100, 4)\n",
    "personaje_2 = Mago(\"Lilith\", 5, 15, 4, 100, 3)\n",
    "\n",
    "# Y vamos a crear una funcion (fuera de clase) que los pone \n",
    "# a combatir hasta uno se quede sin vida\n",
    "\n",
    "def combate(jugador_1, jugador_2):\n",
    "    # Como vamos a hacer un loop, contamos cada turno\n",
    "    turno = 0 \n",
    "    # Ahora mientras esten vivos, hacemos que se ataquen entre si\n",
    "    while jugador_1.esta_vivo() and jugador_2.esta_vivo():\n",
    "        # Imprimimos el turno\n",
    "        print(\"\\nTurno:\", turno)\n",
    "        # decimos quien ataca a quien y atacamos\n",
    "        print(\"---Accion de \", jugador_1.nombre, \":\", sep=\"\")\n",
    "        jugador_1.atacar(jugador_2)\n",
    "        print(\"---Accion de \", jugador_2.nombre, \":\", sep=\"\")\n",
    "        jugador_2.atacar(jugador_1)\n",
    "        # aumentamos el contador de turno\n",
    "        turno += 1\n",
    "    # ahora informamos quien quedo vivo\n",
    "    if jugador_1.esta_vivo():\n",
    "        print(\"\\nHa ganado\", jugador_1.nombre)\n",
    "    elif jugador_2.esta_vivo():\n",
    "        print(\"\\nHa ganado\", jugador_2.nombre)\n",
    "    else:\n",
    "        print(\"\\nEmpate\")"
   ]
  },
  {
   "cell_type": "markdown",
   "id": "cf163310-f31e-4bf1-b054-cbff3b445e35",
   "metadata": {},
   "source": [
    "Y ahora los ponemos a combatir.  "
   ]
  },
  {
   "cell_type": "code",
   "execution_count": 120,
   "id": "273ade43-5ce0-489c-adca-425bfa720736",
   "metadata": {},
   "outputs": [
    {
     "name": "stdout",
     "output_type": "stream",
     "text": [
      "\n",
      "Turno: 0\n",
      "---Accion de Ibrahim:\n",
      "Ibrahim le quito 76 puntos de vida a Lilith\n",
      "La vida de Lilith es de 24 puntos\n",
      "---Accion de Lilith:\n",
      "Lilith le quito 41 puntos de vida a Ibrahim\n",
      "La vida de Ibrahim es de 59 puntos\n",
      "\n",
      "Turno: 1\n",
      "---Accion de Ibrahim:\n",
      "Ibrahim le quito 76 puntos de vida a Lilith\n",
      "Lilith ha muerto!\n",
      "---Accion de Lilith:\n",
      "Lilith le quito 41 puntos de vida a Ibrahim\n",
      "La vida de Ibrahim es de 18 puntos\n",
      "\n",
      "Ha ganado Ibrahim\n"
     ]
    }
   ],
   "source": [
    "combate(personaje_1, personaje_2)"
   ]
  },
  {
   "cell_type": "markdown",
   "id": "233e1a8b-bab7-4ff6-9ee6-8e169e044e25",
   "metadata": {},
   "source": [
    "Pero si personaje_1 ahora es una instancia de la clase Personaje?"
   ]
  },
  {
   "cell_type": "code",
   "execution_count": 121,
   "id": "f5e71958-b544-4f5a-ba71-e170d2db21e2",
   "metadata": {},
   "outputs": [],
   "source": [
    "# Los creamos nuevamente, porque YA COMBATIO UNO DE ELLOS\n",
    "personaje_1 = Personaje(\"Ibrahim\", 20, 10, 4, 100)\n",
    "personaje_2 = Mago(\"Lilith\", 5, 15, 4, 100, 3)"
   ]
  },
  {
   "cell_type": "code",
   "execution_count": 122,
   "id": "b6342192-9b7f-4743-8a1d-558d1cf88c2b",
   "metadata": {},
   "outputs": [
    {
     "name": "stdout",
     "output_type": "stream",
     "text": [
      "\n",
      "Turno: 0\n",
      "---Accion de Ibrahim:\n",
      "Ibrahim le quito 16 puntos de vida a Lilith\n",
      "La vida de Lilith es de 84 puntos\n",
      "---Accion de Lilith:\n",
      "Lilith le quito 41 puntos de vida a Ibrahim\n",
      "La vida de Ibrahim es de 59 puntos\n",
      "\n",
      "Turno: 1\n",
      "---Accion de Ibrahim:\n",
      "Ibrahim le quito 16 puntos de vida a Lilith\n",
      "La vida de Lilith es de 68 puntos\n",
      "---Accion de Lilith:\n",
      "Lilith le quito 41 puntos de vida a Ibrahim\n",
      "La vida de Ibrahim es de 18 puntos\n",
      "\n",
      "Turno: 2\n",
      "---Accion de Ibrahim:\n",
      "Ibrahim le quito 16 puntos de vida a Lilith\n",
      "La vida de Lilith es de 52 puntos\n",
      "---Accion de Lilith:\n",
      "Lilith le quito 41 puntos de vida a Ibrahim\n",
      "Ibrahim ha muerto!\n",
      "\n",
      "Ha ganado Lilith\n"
     ]
    }
   ],
   "source": [
    "# Y los hacemos combatir\n",
    "combate(personaje_1, personaje_2)"
   ]
  },
  {
   "cell_type": "markdown",
   "id": "57d5e707-a1d9-46e7-a9f3-6e70e28e6367",
   "metadata": {},
   "source": [
    "Con esto vemos que hacemos un codigo que funciona igual aunque las clases y sus imetodos sean diferentes. Pero tienen el mismo nombre."
   ]
  }
 ],
 "metadata": {
  "kernelspec": {
   "display_name": "Python 3 (ipykernel)",
   "language": "python",
   "name": "python3"
  },
  "language_info": {
   "codemirror_mode": {
    "name": "ipython",
    "version": 3
   },
   "file_extension": ".py",
   "mimetype": "text/x-python",
   "name": "python",
   "nbconvert_exporter": "python",
   "pygments_lexer": "ipython3",
   "version": "3.11.2"
  }
 },
 "nbformat": 4,
 "nbformat_minor": 5
}
