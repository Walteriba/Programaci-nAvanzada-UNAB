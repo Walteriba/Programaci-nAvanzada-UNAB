{
 "cells": [
  {
   "cell_type": "markdown",
   "id": "7e93dd68",
   "metadata": {},
   "source": [
    "# Funciones lambda\n",
    "A veces ocurre que necesitamos que en nuestro programa se ejecute una funcion simple que, preferentemente, opere sobre una sola variable (o algunas pocas) y que de preferencia, no ejecute *if's* (aunque no es limitante)  \n",
    "Para esas necesidades todos los lenguajes tienen una opcion de hacer pequeñas funciones que no cumplen con los pasos formales de definicion. Y como no tienen un nombre que las represente, se suelen llamar *funciones anonimas*  \n",
    "Se aprovecha la opcion de guardar funciones en una variable.  \n",
    "<center><h4>nombre_variable = <i style=\"color:green;\">lambda</i> argumentos : expresion</h4></center>\n",
    "\n",
    "  \n",
    "Las funciones lambda pueden tener cualquier cantidad de argumentos, pero solo una expresion. "
   ]
  },
  {
   "cell_type": "code",
   "execution_count": 1,
   "id": "d7a11d55",
   "metadata": {},
   "outputs": [
    {
     "name": "stdout",
     "output_type": "stream",
     "text": [
      "9\n",
      "25\n"
     ]
    }
   ],
   "source": [
    "# Función Lambda para calcular el cuadrado de un número\n",
    "cuadrado = lambda x: x ** 2\n",
    "\n",
    "print(cuadrado(3)) # Resultado: 9\n",
    "\n",
    "# Funcion tradicional para calcular el cuadrado de un numero\n",
    "def cuadrado1(num):\n",
    "  return num ** 2\n",
    "\n",
    "print(cuadrado1(5)) # Resultado: 25"
   ]
  },
  {
   "cell_type": "code",
   "execution_count": 2,
   "id": "61b73714",
   "metadata": {},
   "outputs": [
    {
     "name": "stdout",
     "output_type": "stream",
     "text": [
      "8\n"
     ]
    }
   ],
   "source": [
    "# Funcion lambda para calcular una potencia\n",
    "potencia = lambda x,y: x**y\n",
    "\n",
    "print(potencia(2,3))"
   ]
  },
  {
   "cell_type": "markdown",
   "id": "e8b1634f",
   "metadata": {},
   "source": [
    "Tambien podemos usar *lambdas* con simples condicionales.  "
   ]
  },
  {
   "cell_type": "code",
   "execution_count": 3,
   "id": "ef85e37c",
   "metadata": {},
   "outputs": [
    {
     "name": "stdout",
     "output_type": "stream",
     "text": [
      "False\n",
      "True\n"
     ]
    }
   ],
   "source": [
    "# Funcion lambda con un condicional\n",
    "# dado un numero nos contesta true si el cuadrado de ese numero es mayor que 26\n",
    "# si no, devuelve false\n",
    "cuadrado_mayor = lambda x: True if x**2 >= 26 else False\n",
    "\n",
    "print(cuadrado_mayor(5))\n",
    "print(cuadrado_mayor(8))"
   ]
  },
  {
   "cell_type": "markdown",
   "id": "d77a5091",
   "metadata": {},
   "source": [
    "Las funciones *lambda* tambien pueden trabajar con las variables globales de nuestro programa. Como lo hacen las funciones \"normales\"    "
   ]
  },
  {
   "cell_type": "code",
   "execution_count": 4,
   "id": "f77be29b",
   "metadata": {},
   "outputs": [
    {
     "name": "stdout",
     "output_type": "stream",
     "text": [
      "12\n"
     ]
    }
   ],
   "source": [
    "# Ejemplo de interaccion con variable globales\n",
    "multiplicador = 3 # variable global\n",
    "mult = lambda x: x * multiplicador\n",
    "\n",
    "print(mult(4))"
   ]
  },
  {
   "cell_type": "markdown",
   "id": "3cf7a21a",
   "metadata": {},
   "source": [
    "Un uso muy habitual de las funciones *lambda* es la de aplicar operaciones sobre los elemento de *colecciones* (tuplas, listas o diccionarios) Veamos en el caso de **map()**"
   ]
  },
  {
   "cell_type": "code",
   "execution_count": 5,
   "id": "da55dd3b",
   "metadata": {},
   "outputs": [
    {
     "name": "stdout",
     "output_type": "stream",
     "text": [
      "[2, 2, 6, 4, 10, 6, 14, 8]\n"
     ]
    }
   ],
   "source": [
    "# Ejemplo de lambdas como funcion de map()\n",
    "numeros = [1, 2, 3, 4, 5, 6, 7, 8]\n",
    "# map(funcion, coleccion) aplica la funcion a cada item de la coleccion\n",
    "# y retorna un iterable, por eso el cast a lista\n",
    "doblar_impares = list(map(lambda x :x * 2 if x % 2 != 0 else x, numeros))\n",
    "\n",
    "print(doblar_impares) # Imprime [2, 2, 6, 4, 10, 6, 14, 8]"
   ]
  },
  {
   "cell_type": "markdown",
   "id": "880f1da8",
   "metadata": {},
   "source": [
    "Si la funcion tiene un *print()* hay otra forma de enunciarlas.  \n",
    "Se envuelve el lambda en parentesis y se le pasan los parametros como si fuera una funcion con argumentos.  "
   ]
  },
  {
   "cell_type": "code",
   "execution_count": 6,
   "id": "698ba9f5",
   "metadata": {},
   "outputs": [
    {
     "name": "stdout",
     "output_type": "stream",
     "text": [
      "16\n"
     ]
    }
   ],
   "source": [
    "# lambda sin asignacion y con ejecucion\n",
    "# (funcion)()\n",
    "(lambda numero1, numero2: print(numero1 * numero2))(4,4)"
   ]
  },
  {
   "cell_type": "markdown",
   "id": "b54f37ea",
   "metadata": {},
   "source": [
    "# Un poco de practica sobre POO\n",
    "Se animan a leer codigo y ver que hace sin ejecutarlo?"
   ]
  },
  {
   "cell_type": "code",
   "execution_count": null,
   "id": "99363a23",
   "metadata": {},
   "outputs": [],
   "source": [
    "# Cual sera la salida?\n",
    "class C1:\n",
    "    def M1(self):\n",
    "        return self.M2()\n",
    "\n",
    "    def M2(self):\n",
    "        return 'A'\n",
    "\n",
    "class C2(C1):\n",
    "    def M2(self):\n",
    "        return 'B'\n",
    "\n",
    "a = C1()\n",
    "b = C2()\n",
    "print(a.M1(), \n",
    "      b.M1(), \n",
    "      a.M2(), \n",
    "      b.M2())"
   ]
  },
  {
   "cell_type": "code",
   "execution_count": null,
   "id": "d50706e2",
   "metadata": {},
   "outputs": [
    {
     "ename": "",
     "evalue": "",
     "output_type": "error",
     "traceback": [
      "\u001b[1;31mLa ejecución de celdas con 'Python 3.12.3' requiere el paquete ipykernel.\n",
      "\u001b[1;31mEjecute el siguiente comando para instalar 'ipykernel' en el entorno de Python. comando \n",
      "\u001b[1;31m: '/bin/python3.12 -m pip install ipykernel -U --user --force-reinstall'"
     ]
    }
   ],
   "source": [
    "# Cual sera la salida?\n",
    "class a:\n",
    "    var1=40\n",
    "    def __init__(self,var2):\n",
    "        self.var2=var2\n",
    "    def M1(self):\n",
    "        var1=20\n",
    "        var2=40\n",
    "        return self.var1+var2\n",
    "ob1=a(30)\n",
    "print(ob1.M1())"
   ]
  },
  {
   "cell_type": "code",
   "execution_count": null,
   "id": "d488e64d",
   "metadata": {},
   "outputs": [],
   "source": [
    "# Cual sera la salida?\n",
    "# Si alguien se anima me puede enviar lo que entendio de \n",
    "# este ejercicio al mail raul.marusca@docentes.unab.edu.ar\n",
    "\n",
    "class a:\n",
    "    def M1(self):\n",
    "        # acuerdense que una variable puede contener a un objeto\n",
    "        ob1=b(10)\n",
    "        return ob1\n",
    "    def M2(self,var2):\n",
    "        var2=var2+self.M1().K()\n",
    "        return var2\n",
    "\n",
    "    class b:\n",
    "    def __init__(self,var1):\n",
    "        self.var1=var1\n",
    "    def K(self):\n",
    "        var1=11\n",
    "        var2=12\n",
    "        var3=var1+var2+self.var1\n",
    "        return var3\n",
    "\n",
    "ob2=a()\n",
    "print(ob2.M2(20))"
   ]
  },
  {
   "cell_type": "markdown",
   "id": "8e270f2e",
   "metadata": {},
   "source": [
    "El examen de ingles (britanico) IELTS mide competencias en 4 areas: redactar un texto, entender un texto, entender conversaciones y mantener una conversacion con un hablante nativo. En cada una de esas categorias hay una nota entre 0 y 9. La nota final es el promedio.  \n",
    "Los examenes de ingles europeos (MCERL) categorizan al examinado en tres niveles CEFR: Basico (A), Independiente (B) y Competente (C) cada uno de ellos con dos subcategorias (A1, A2, B1, B2, C1 y C3).  "
   ]
  },
  {
   "cell_type": "markdown",
   "id": "2533cef3",
   "metadata": {},
   "source": [
    "![Examenes](bc-cefr_image-2_1.jpg \"Relacion entre examenes\")"
   ]
  },
  {
   "cell_type": "markdown",
   "id": "1d816075",
   "metadata": {},
   "source": [
    "Nos atrevemos a hacer una clase que represente a un alumno (con nombre, apellido y legajo) y un setter que registre la nota en cada parte del examen IELTS? Ademas tendria que tener un metodo que nos informe de el nivel CEFR.  \n",
    "Con un twist, si el alumno saca mas de 6 en escuchar conversaciones y mas de 8 en mantener una conversacion con un nativo, automaticamente tiene un C2  \n",
    "Adicionalmente, podriamos podriamos hacer que al imprimir la instancia alumno, nos informe de su nombre, apellido, promedio IELTS y nivel CEFR (Common European Framework Reference)"
   ]
  },
  {
   "cell_type": "code",
   "execution_count": 7,
   "id": "d92d3f9c",
   "metadata": {},
   "outputs": [],
   "source": [
    "# Clase del alumno de ingles\n",
    "# Solucion comision 3\n",
    "class Alumno():\n",
    "    def __init__(self, nombre, apellido, legajo):\n",
    "        self.nombre = nombre\n",
    "        self.apellido = apellido\n",
    "        self.legajo = legajo\n",
    "        self.leer = 0\n",
    "        self.redactar =0\n",
    "        self.escuchar = 0\n",
    "        self.conversar = 0\n",
    "        self.nivel =\"A0\"\n",
    "        self.promedio = 0\n",
    "        \n",
    "    def registrar_notas(self, leer, redactar, escuchar, conversar):\n",
    "        self.leer = leer\n",
    "        self.redactar = redactar\n",
    "        self.escuchar = escuchar\n",
    "        self.conversar = conversar\n",
    "        \n",
    "    def promedioIelts(self):\n",
    "        # round(resultado_cuenta, numero_decimales)\n",
    "        self.promedio = round((self.leer + self.redactar + self.escuchar + self.conversar) / 4 ,1) \n",
    "        return self.promedio\n",
    "   \n",
    "    def cerf(self):\n",
    "        if (self.escuchar > 6 and self.conversar > 8) :\n",
    "            self.nivel = \"C2\"\n",
    "        elif self.promedioIelts() >= 8.5 :\n",
    "            self.nivel = \"C2\"\n",
    "        elif self.promedioIelts() >= 7 :\n",
    "            self.nivel = \"C1\"\n",
    "        elif self.promedioIelts() >= 5.5 :\n",
    "            self.nivel = \"B2\"\n",
    "        elif self.promedioIelts() >= 4 :\n",
    "            self.nivel = \"B1\"\n",
    "        elif self.promedioIelts() >= 3.5 :\n",
    "            self.nivel = \"A2\"\n",
    "        elif self.promedioIelts() < 3.5 :\n",
    "            self.nivel = \"A1\"\n",
    "            \n",
    "        return self.nivel\n",
    "            \n",
    "    def __str__(self):\n",
    "        return  f\"El alumno {self.nombre} {self.apellido} tiene un nivel {self.cerf()} y un promedio IELTS {self.promedioIelts()}\"\n",
    "        "
   ]
  },
  {
   "cell_type": "code",
   "execution_count": 8,
   "id": "24a1cd0d",
   "metadata": {},
   "outputs": [],
   "source": [
    "# Clase del alumno de ingles\n",
    "# Solucion Comision 4\n",
    "class Alumno():\n",
    "    \n",
    "    def __init__(self, nombre, apellido, legajo):\n",
    "        self.nombre = nombre\n",
    "        self.apellido = apellido\n",
    "        self.legajo = legajo\n",
    "        self.leer = 0\n",
    "        self.redactar = 0\n",
    "        self.escuchar = 0\n",
    "        self.conversar = 0\n",
    "        self.nivel = \"A0\"\n",
    "        self.promedio = 0\n",
    "        \n",
    "    def cargar_notas(self, leer, redactar, escuchar, conversar):\n",
    "        self.leer = leer\n",
    "        self.redactar = redactar\n",
    "        self.escuchar = escuchar\n",
    "        self.conversar = conversar\n",
    "        \n",
    "    def promIELTS(self):\n",
    "        self.promedio =  round((self.leer + self.redactar + self.escuchar + self.conversar) / 4, 1)\n",
    "        # round(resultado_cuenta, numero_decimales)\n",
    "        return self.promedio\n",
    "    \n",
    "    def nivelCEFR(self):\n",
    "        self.promedio = self.promIELTS()\n",
    "        if (self.escuchar > 6 and self.conversar > 8):\n",
    "            self.nivel = \"C2\"\n",
    "        elif self.promedio >= 8.5:\n",
    "            self.nivel = \"C2\"\n",
    "        elif self.promedio >= 7 :\n",
    "            self.nivel = \"C1\"\n",
    "        elif self.promedio >= 5.5 :\n",
    "            self.nivel = \"B2\"\n",
    "        elif self.promedio >= 4 :\n",
    "            self.nivel = \"B1\"\n",
    "        elif self.promedio >= 3.5 :\n",
    "            self.nivel = \"A2\"\n",
    "        elif self.promedio < 3.5 :\n",
    "            self.nivel = \"A1\"\n",
    "   \n",
    "        return self.nivel\n",
    "    \n",
    "    def __str__(self):\n",
    "        return f\"El alumno {self.nombre} {self.apellido} con un promedio {self.promIELTS()} y un nivel {self.nivelCEFR()}\"\n",
    "    "
   ]
  },
  {
   "cell_type": "code",
   "execution_count": 9,
   "id": "e45f08f0",
   "metadata": {},
   "outputs": [
    {
     "name": "stdout",
     "output_type": "stream",
     "text": [
      "El alumno Maria Lopez con un promedio 6.0 y un nivel B2\n"
     ]
    }
   ],
   "source": [
    "un_alumno = Alumno(\"Maria\", \"Lopez\", 1000)\n",
    "un_alumno.cargar_notas(4, 7, 7, 6)\n",
    "print(un_alumno)\n",
    "#print(un_alumno.nivelCEFR())"
   ]
  },
  {
   "cell_type": "markdown",
   "id": "1949bfe9",
   "metadata": {},
   "source": [
    "# Un poco de practica sobre decoradores\n",
    "Necesitamos un decorador que nos informe de el nombre de la funcion que se ejecuta, los argumentos que recibe y el resultado retornado"
   ]
  },
  {
   "cell_type": "code",
   "execution_count": 10,
   "id": "440c996d",
   "metadata": {},
   "outputs": [],
   "source": [
    "# Funcion decoradora TEMPLATE\n",
    "# ojo! Hay mucho comentario en este codigo...\n",
    "# La idea es usarlo como un template para decoradores\n",
    "def mi_decorador(func):  # Esto es a() func es b()\n",
    "    # si tenemos algun argumento, se lo pasamos a la funcion c() (o wrapper)\n",
    "    def wrapper(*args, **kwargs):  # Y esto es c()\n",
    "        print(\"La funcion se llama \", func.__name__, \"y sus argumentos son\", *args)\n",
    "        # guardamos la funcion func en una variable\n",
    "        resultado = func(*args, **kwargs)\n",
    "        print(\"La funcion devuelve\", resultado)\n",
    "        # retornamos la ejecucion de la funcion func\n",
    "        return resultado\n",
    "    # y retornamos la ejecucion del wrapper\n",
    "    return wrapper  # aca retornamos c()"
   ]
  },
  {
   "cell_type": "code",
   "execution_count": 11,
   "id": "d6b100cf",
   "metadata": {},
   "outputs": [],
   "source": [
    "@mi_decorador\n",
    "def una_funcion(numero1, numero2):\n",
    "    return numero1 + numero2"
   ]
  },
  {
   "cell_type": "code",
   "execution_count": 12,
   "id": "5f7d9f1f",
   "metadata": {},
   "outputs": [
    {
     "name": "stdout",
     "output_type": "stream",
     "text": [
      "La funcion se llama  una_funcion y sus argumentos son 4 7\n",
      "La funcion devuelve 11\n"
     ]
    },
    {
     "data": {
      "text/plain": [
       "11"
      ]
     },
     "execution_count": 12,
     "metadata": {},
     "output_type": "execute_result"
    }
   ],
   "source": [
    "una_funcion(4,7)"
   ]
  }
 ],
 "metadata": {
  "kernelspec": {
   "display_name": "Python 3 (ipykernel)",
   "language": "python",
   "name": "python3"
  },
  "language_info": {
   "codemirror_mode": {
    "name": "ipython",
    "version": 3
   },
   "file_extension": ".py",
   "mimetype": "text/x-python",
   "name": "python",
   "nbconvert_exporter": "python",
   "pygments_lexer": "ipython3",
   "version": "3.12.3"
  }
 },
 "nbformat": 4,
 "nbformat_minor": 5
}
