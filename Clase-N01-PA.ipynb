{
  "cells": [
    {
      "cell_type": "code",
      "execution_count": null,
      "metadata": {
        "colab": {
          "base_uri": "https://localhost:8080/"
        },
        "id": "gMo997r7fWTy",
        "outputId": "c48a43d5-2c2b-4485-867b-4279b48ab23a"
      },
      "outputs": [
        {
          "name": "stdout",
          "output_type": "stream",
          "text": [
            "BORDO ROJO VERDE\n",
            "4\n",
            "4\n",
            "4\n",
            "AZUL\n"
          ]
        }
      ],
      "source": [
        "# Clase 2 - Prog. Avanzada Cursada 2023\n",
        "# Link a la lista de reproducción en Youtube\n",
        "# https://www.youtube.com/playlist?list=PLKsU-SXwuInBxxwJyp-IF4U_1k2HucBcV\n",
        "\n",
        "# Ejemplo del Automovil\n",
        "class Automovil:\n",
        "  ruedas = 4\n",
        "\n",
        "  def __init__(self, color):\n",
        "    self.color = color\n",
        "\n",
        "  def set_color(self, color):\n",
        "    self.color = color\n",
        "\n",
        "  def get_color(self):\n",
        "    return self.color.upper()\n",
        "\n",
        "  def get_ruedas(self):\n",
        "    return self.ruedas\n",
        "\n",
        "\n",
        "# Instanciar la clase Automovil\n",
        "automovil1 = Automovil('bordo')\n",
        "automovil2 = Automovil('rojo')\n",
        "automovil3 = Automovil('verde')\n",
        "\n",
        "\n",
        "print(automovil1.get_color(), automovil2.get_color(),automovil3.get_color() )\n",
        "print(automovil1.get_ruedas())\n",
        "print(automovil2.get_ruedas())\n",
        "print(automovil3.get_ruedas())\n",
        "\n",
        "automovil3.set_color('azul')\n",
        "print(automovil3.get_color())\n",
        "\n"
      ]
    },
    {
      "cell_type": "code",
      "execution_count": null,
      "metadata": {
        "colab": {
          "base_uri": "https://localhost:8080/"
        },
        "id": "SiYNZYrymlyr",
        "outputId": "d28de888-2dce-4984-f32a-cacfdcc0b0dd"
      },
      "outputs": [
        {
          "name": "stdout",
          "output_type": "stream",
          "text": [
            "Cuadrado 4 8\n",
            "Rectangulo 6 10\n"
          ]
        }
      ],
      "source": [
        "# Vamos a trabajar con cuadrados y rectangulos\n",
        "class Cuadrado():\n",
        "\n",
        "  def __init__(self,lado):\n",
        "    self.lado = lado\n",
        "\n",
        "  def perimetro(self):\n",
        "    return self.lado * 4\n",
        "\n",
        "  def area(self):\n",
        "    return self.lado * self.lado\n",
        "\n",
        "# Instanciamos objetos de la clase Cuadrado\n",
        "c1 = Cuadrado(2)\n",
        "print('Cuadrado', c1.area(), c1.perimetro())\n",
        "\n",
        "\n",
        "# Vamos a trabajar con cuadrados y rectangulos\n",
        "class Rectangulo():\n",
        "\n",
        "  def __init__(self,lado1, lado2):\n",
        "    self.lado1 = lado1\n",
        "    self.lado2 = lado2\n",
        "\n",
        "  def perimetro(self):\n",
        "    return self.lado1*2 + self.lado2*2\n",
        "\n",
        "  def area(self):\n",
        "    return self.lado1 * self.lado2\n",
        "\n",
        "# Instanciamos objetos de la clase Rectangulo\n",
        "r1 = Rectangulo(2, 3)\n",
        "print('Rectangulo', r1.area(), r1.perimetro())\n",
        "\n",
        "#NOTA: En esta implementación NO se aprovecha el uso de Herencia!!\n"
      ]
    },
    {
      "cell_type": "code",
      "execution_count": null,
      "metadata": {
        "colab": {
          "base_uri": "https://localhost:8080/"
        },
        "id": "qj_RTyeYo5jJ",
        "outputId": "d0ed03c4-bbe9-444d-a441-bd3705a26f31"
      },
      "outputs": [
        {
          "name": "stdout",
          "output_type": "stream",
          "text": [
            "Cuadrado 4 8 FG\n",
            "Rectangulo 6 10 FG\n"
          ]
        }
      ],
      "source": [
        "class FiguraGeometrica():\n",
        "  nombre = 'FG'\n",
        "  pass\n",
        "\n",
        "  def area(self):\n",
        "    return self.lado1 * self.lado2\n",
        "\n",
        "  def perimetro(self):\n",
        "    return self.lado1*2 + self.lado2*2\n",
        "\n",
        "class Cuadrado(FiguraGeometrica):\n",
        "\n",
        "  def __init__(self,lado):\n",
        "    self.lado1 = lado\n",
        "    self.lado2 = lado\n",
        "\n",
        "\n",
        "class Rectangulo(FiguraGeometrica):\n",
        "\n",
        "  def __init__(self,lado1, lado2):\n",
        "    self.lado1 = lado1\n",
        "    self.lado2 = lado2\n",
        "\n",
        "# Instanciamos objetos de la clase Cuadrado\n",
        "c1 = Cuadrado(2)\n",
        "print('Cuadrado', c1.area(), c1.perimetro(), c1.nombre)\n",
        "\n",
        "# Instanciamos objetos de la clase Rectangulo\n",
        "r1 = Rectangulo(2, 3)\n",
        "print('Rectangulo', r1.area(), r1.perimetro(), r1.nombre)\n",
        "\n",
        "# Nota: En este caso, si bien se utiliza HERENCIA, la definición del constructor de Cuadrado es discutible.\n",
        "#       También es muy discutible implementación de los métodos area y perimetro en la clase FiguraGeometrica,\n",
        "#       ya que NO todos los cálculos de áreas y perímetros pueden realizarse con esta implementación (por ejemplo,\n",
        "#       no aplica para una eventual futura clase Circunsferencia)\n"
      ]
    }
  ],
  "metadata": {
    "colab": {
      "provenance": []
    },
    "kernelspec": {
      "display_name": "Python 3",
      "name": "python3"
    },
    "language_info": {
      "name": "python",
      "version": "3.12.2"
    }
  },
  "nbformat": 4,
  "nbformat_minor": 0
}
