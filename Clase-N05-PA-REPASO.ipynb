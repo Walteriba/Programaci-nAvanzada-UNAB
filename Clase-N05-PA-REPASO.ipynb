{
 "cells": [
  {
   "cell_type": "markdown",
   "metadata": {
    "id": "GXvW77pATGaG"
   },
   "source": [
    "# Repaso\n",
    "## Paradigmas de computacion\n",
    "\"Teoría o conjunto de teorías cuyo núcleo central se acepta sin cuestionar y que suministra la base y modelo para resolver problemas y avanzar en el conocimiento\"  \n",
    "Hay en todas las especialidades:\n",
    "\n",
    "*   Fisica (Aristoteles, Newton, Einstein)\n",
    "*   Quimica (Flogisto, Lavoisiere)\n",
    "*   Psicologia (Freud, Lacan)\n",
    "*   Futbol (Menotti, Bilardo, Scaloni)\n",
    "\n",
    "### Procedural o Estructurada\n",
    "Es la que estudiamos hasta ahora y se basa en las estructuras de control (lineales, condicionales, lazos)  \n",
    "Es la base de todos los demas.\n",
    "### Reactiva\n",
    "Consiste en esperar y reaccionar a eventos.  \n",
    "Se usa en desarrollo web FrontEnd y con sistemas de control automaticos\n",
    "### Funcional\n",
    "Se basa en definir funciones (como en matematica) e ir interconectandolas usando las salidas de algunas funciones como argumento de las siguientes.  \n",
    "Se usa con grandes volumenes de datos.  \n",
    "### Declarativa\n",
    "Los anteriores se basan en *como* hacer las cosas (imperativas), los declarativos en *que* hacer.  \n",
    "El uso mas comun es en los lenguajes de consulta de Bases de Datos (SQL)\n",
    "### Concurrente\n",
    "Se basa en distribuir tareas entre distintos procesadores o en emplear los tiempos muertos de otras tareas.  \n",
    "Con la facil disponibilidad de equipos de procesamiento paralelo (GPU's o TPU's) se esta empleando en todos los ambitos.\n",
    "### Orientada a objetos\n",
    "Se basan en representar a la realidad con un modelo simplificado de la misma.\n",
    "## Programacion orientada a objetos\n",
    "En este modelo de programación se construyen modelos de objetos que representan elementos (objetos) del problema a\n",
    "resolver, que tienen características y funciones.  \n",
    "Y sus características son:\n",
    "*   Permite separar los componentes de un programa\n",
    "*   Simplifica la creación, depuración y **posteriores mejoras del programa**\n",
    "*   Ayuda a disminuir errores\n",
    "*   Promueve la reutilización del código\n",
    "\n",
    "## Componente del paradigma\n",
    "Estos son:\n",
    "### Objetos\n",
    "Son piezas de codigo que representan a un objeto de la realidad o a un concepto.\n",
    "### Clase\n",
    "Es como un *molde* de objetos. Aqui es donde definimos las caracteristicas generales de lo que luego se instanciara en uno o en varios objetos.\n",
    "### Atributos\n",
    "Son las caracteristicas de los objetos. Son variables que determinan partes del objeto y que lo diferencian de otro de su misma clase.\n",
    "### Métodos\n",
    "Son las acciones que puede realizar el objeto. Normalmente son funciones que reciben parametros y pueden devolver o no valores.\n",
    "## Pilares de la POO\n",
    "### Abstraccion\n",
    "Se refiere a la capacidad de enfocarse en los aspectos esenciales de un objeto o sistema, omitiendo detalles no relevantes o irrelevantes. En otras palabras, la abstracción implica definir una representación simplificada de un objeto o sistema, destacando sus características clave y omitiendo los detalles innecesarios.\n",
    "\n",
    "En la POO, la abstracción se logra mediante la creación de clases y objetos que modelan la realidad de manera simplificada. Una clase abstracta define una representación general de un objeto o sistema, sin preocuparse por los detalles específicos de su implementación. Luego, se pueden crear objetos concretos que heredan de la clase abstracta y agregan detalles específicos.\n",
    "\n",
    "La abstracción ofrece varias ventajas en la programación orientada a objetos:\n",
    "\n",
    "*  Simplificación: La abstracción permite enfocarse en los aspectos esenciales de un objeto o sistema, lo que facilita la comprensión y el desarrollo del software.\n",
    "*  Reusabilidad: Las clases abstraidas pueden ser reutilizadas en diferentes contextos, lo que reduce la duplicación de código y aumenta la eficiencia del desarrollo.\n",
    "*  Flexibilidad: La abstracción permite modificar o extender la implementación de un objeto o sistema sin afectar a otros componentes del sistema.\n",
    "\n",
    "### Polimorfismo\n",
    "Se refiere a la capacidad de un objeto de tomar múltiples formas, es decir, de comportarse de diferentes maneras dependiendo del contexto en el que se encuentre.\n",
    "\n",
    "En la POO, el polimorfismo se logra mediante la sobrecarga de métodos y la sobrescritura de métodos. Esto permite que un objeto pueda responder a diferentes mensajes o llamadas, incluso si se trata de objetos de diferentes clases.\n",
    "\n",
    "*   Sobrescritura de métodos: La sobrescritura de métodos se refiere a la capacidad de un objeto de redefinir un método heredado de una clase padre. De esta manera, un objeto puede tener un comportamiento diferente al de su clase padre para un método en particular.\n",
    "\n",
    "*   Sobrecarga de métodos: La sobrecarga de métodos se refiere a la capacidad de un objeto de tener varios métodos con el mismo nombre pero con diferentes parámetros. De esta manera, se puede llamar a un método con un nombre determinado, pero el objeto responderá de manera diferente según los parámetros que se le pasen. Python **NO SOPORTA** sobrecarga de metodos de forma nativa.\n",
    "\n",
    "\n",
    "### Encapsulamiento\n",
    "Se refiere a la capacidad de un objeto de ocultar sus detalles de implementación internos y mostrar solo su interfaz al exterior.\n",
    "\n",
    "En otras palabras, el encapsulamiento implica que un objeto tiene control total sobre sus datos y métodos, y solo permite acceder a ellos a través de una interfaz bien definida. De esta manera, se logra:\n",
    "\n",
    "*   Ocultar la implementación: El objeto oculta sus detalles de implementación     internos, lo que hace que sean invisibles para el exterior.\n",
    "\n",
    "*    Mostrar la interfaz: El objeto muestra solo su interfaz, que es la parte que interactúa con el exterior.\n",
    "*    Control de acceso: El objeto tiene control total sobre quién puede acceder a sus datos y métodos.\n",
    "\n",
    "El encapsulamiento ofrece varias ventajas en la programación orientada a objetos:\n",
    "\n",
    "*  Seguridad: El encapsulamiento ayuda a proteger la integridad de los datos y métodos de un objeto, evitando que sean modificados o accedidos de manera no autorizada.\n",
    "*  Flexibilidad: El encapsulamiento permite cambiar la implementación interna de un objeto sin afectar a los objetos que lo utilizan.\n",
    "*  Reusabilidad: El encapsulamiento hace que los objetos sean más reutilizables, ya que se pueden utilizar en diferentes contextos sin que su implementación interna sea un problema.\n",
    "*   Simplificación: El encapsulamiento simplifica la programación, ya que se puede trabajar con objetos sin necesidad de conocer los detalles de su implementación interna.  \n",
    "\n",
    "Recordemos que Python **NO TIENE** un verdero encapsulamiento.\n",
    "\n",
    "### Herencia\n",
    "Se refiere a la capacidad de una clase de heredar los atributos y métodos de otra clase, llamada clase padre o superclase.\n",
    "\n",
    "En la herencia, una clase hija (o subclase) hereda todos los atributos y métodos de la clase padre, y puede también agregar nuevos atributos y métodos o redefinir los existentes. De esta manera, la clase hija puede especializar o extender la funcionalidad de la clase padre.\n",
    "\n",
    "La herencia se utiliza para:\n",
    "\n",
    "*    Reutilizar código: La herencia permite reutilizar el código de la clase padre en la clase hija, lo que reduce la duplicación de código y aumenta la eficiencia del desarrollo.\n",
    "*    Crear jerarquías: La herencia permite crear jerarquías de clases, donde una clase hija hereda de una clase padre y puede tener sus propias hijas.\n",
    "*    Modelar relaciones: La herencia se utiliza para modelar relaciones entre objetos, como la relación entre un objeto padre y un objeto hijo.\n",
    "\n",
    "Tipos de herencia:\n",
    "\n",
    "*    Herencia simple: Una clase hija hereda de una sola clase padre.\n",
    "*    Herencia múltiple: Una clase hija hereda de varias clases padre.\n",
    "*    Herencia jerárquica: Una clase hija hereda de una clase padre, que a su vez hereda de otra clase padre.  \n",
    "\n",
    "La herencia multiple tiene asociados algunos inconvenientes en su aplicacion. Es por eso que se debe saber muy bien como y cuando usarla.  \n",
    "\n",
    "\n",
    "## Ejemplos de programacion POO en Python"
   ]
  },
  {
   "cell_type": "code",
   "execution_count": 5,
   "metadata": {
    "id": "gh1BXlcU9Jhh"
   },
   "outputs": [
    {
     "ename": "TypeError",
     "evalue": "Humano.__init__() missing 2 required positional arguments: 'nombre' and 'ocupacion'",
     "output_type": "error",
     "traceback": [
      "\u001b[0;31m---------------------------------------------------------------------------\u001b[0m",
      "\u001b[0;31mTypeError\u001b[0m                                 Traceback (most recent call last)",
      "Cell \u001b[0;32mIn[5], line 27\u001b[0m\n\u001b[1;32m     25\u001b[0m persona \u001b[38;5;241m=\u001b[39m Humano(\u001b[38;5;241m40\u001b[39m, \u001b[38;5;124m\"\u001b[39m\u001b[38;5;124mCarlos\u001b[39m\u001b[38;5;124m\"\u001b[39m, \u001b[38;5;124m\"\u001b[39m\u001b[38;5;124mMecanico\u001b[39m\u001b[38;5;124m\"\u001b[39m)\n\u001b[1;32m     26\u001b[0m persona\u001b[38;5;241m.\u001b[39mcaminar(\u001b[38;5;241m400\u001b[39m, \u001b[38;5;241m500\u001b[39m)\n\u001b[0;32m---> 27\u001b[0m otra_persona \u001b[38;5;241m=\u001b[39m \u001b[43mHumano\u001b[49m\u001b[43m(\u001b[49m\u001b[38;5;241;43m.\u001b[39;49m\u001b[38;5;241;43m.\u001b[39;49m\u001b[38;5;241;43m.\u001b[39;49m\u001b[43m)\u001b[49m\n",
      "\u001b[0;31mTypeError\u001b[0m: Humano.__init__() missing 2 required positional arguments: 'nombre' and 'ocupacion'"
     ]
    }
   ],
   "source": [
    "# Ejemplo de una clase\n",
    "\n",
    "class Humano(): #Creamos la clase Humano\n",
    "    \"\"\"\n",
    "    Una clase para representar a un humano\n",
    "    \"\"\"\n",
    "    #Definimos los parámetros edad, nombre y ocupacion\n",
    "    edad = 32\n",
    "    nombre = \"Juana\"\n",
    "    ocupacion = \"Medica\"\n",
    "\n",
    "    # El metodo constructor que se ejecuta al instanciar la clase\n",
    "    def __init__(self, edad, nombre, ocupacion):\n",
    "        self.edad = edad  # Definimos que el atributo edad, sera la edad pasada\n",
    "        self.nombre = nombre  # Definimos que el atributo nombre, sera el nombre pasada\n",
    "        self.ocupacion = ocupacion  #DEFINIMOS EL ATRIBUTO DE INSTANCIA OCUPACION\n",
    "        self.posicion_x = 0  # Estos atributos son creados al instanciar\n",
    "        self.posicion_y = 0  # Estos atributos son creados al instanciar\n",
    "\n",
    "    # Un metodo random\n",
    "    def caminar(self, direccion_x, direccion_y):\n",
    "      self.posicion_x += direccion_x\n",
    "      self.posicion_y += direccion_y\n",
    "\n",
    "persona = Humano(40, \"Carlos\", \"Mecanico\")\n",
    "persona.caminar(400, 500)\n",
    "otra_persona = Humano(...)"
   ]
  },
  {
   "cell_type": "code",
   "execution_count": 2,
   "metadata": {
    "colab": {
     "base_uri": "https://localhost:8080/"
    },
    "id": "PJeeJ9dt-qYQ",
    "outputId": "f933215b-7356-439d-8644-3a83a5529570"
   },
   "outputs": [
    {
     "name": "stdout",
     "output_type": "stream",
     "text": [
      "El perro ladra\n"
     ]
    }
   ],
   "source": [
    "# Otra clase con herencia\n",
    "class Animal():\n",
    "    def __init__(self, nombre):\n",
    "        self.nombre = nombre\n",
    "\n",
    "    def hacer_ruido(self):\n",
    "        print(\"El animal hace un ruido\")\n",
    "\n",
    "#############################################################################\n",
    "# Esta clase hereda de Animal\n",
    "class Perro(Animal):\n",
    "    # sobre-escribimos el metodo usando super para llamar al metodo padre\n",
    "    def __init__(self, nombre, raza):\n",
    "        super().__init__(nombre)\n",
    "        self.raza = raza\n",
    "\n",
    "    # sobre-escribimos el metodo\n",
    "    def hacer_ruido(self):\n",
    "        print(\"El perro ladra\")\n",
    "\n",
    "perro = Perro(\"Fido\", \"Golden Retriever\")\n",
    "perro.hacer_ruido()  # Output: El perro ladra"
   ]
  },
  {
   "cell_type": "code",
   "execution_count": 3,
   "metadata": {
    "colab": {
     "base_uri": "https://localhost:8080/"
    },
    "id": "miwcnXoi-sm6",
    "outputId": "aa0000ab-e7db-4465-82de-bd6822d1593e"
   },
   "outputs": [
    {
     "name": "stdout",
     "output_type": "stream",
     "text": [
      "Se dibuja un círculo de radio 5 y color rojo\n"
     ]
    }
   ],
   "source": [
    "# Y otra mas con herencia\n",
    "class Figura():\n",
    "    # sobre-escribimos el metodo usando super para llamar al metodo padre\n",
    "    def __init__(self, color):\n",
    "        self.color = color\n",
    "\n",
    "    def dibujar(self):\n",
    "        print(\"Se dibuja una figura\")\n",
    "\n",
    "###############################################################################\n",
    "# Esta clase hereda de Figura\n",
    "class Circulo(Figura):\n",
    "    def __init__(self, color, radio):\n",
    "        super().__init__(color)\n",
    "        self.radio = radio\n",
    "\n",
    "    # sobre-escribimos el metodo heredado\n",
    "    def dibujar(self):\n",
    "        print(f\"Se dibuja un círculo de radio {self.radio} y color {self.color}\")\n",
    "\n",
    "circulo = Circulo(\"rojo\", 5)\n",
    "circulo.dibujar()  # Output: Se dibuja un círculo de radio 5 y color rojo"
   ]
  },
  {
   "cell_type": "code",
   "execution_count": 2,
   "metadata": {
    "id": "eCkhf5R9-wtZ"
   },
   "outputs": [
    {
     "name": "stdout",
     "output_type": "stream",
     "text": [
      "El coche Focus de Ford acelera\n"
     ]
    }
   ],
   "source": [
    "# otro ejemplo mas\n",
    "class Vehiculo():\n",
    "    def __init__(self, marca, modelo):\n",
    "        self.marca = marca\n",
    "        self.modelo = modelo\n",
    "\n",
    "    def acelerar(self):\n",
    "        print(\"El vehículo acelera\")\n",
    "\n",
    "###############################################################################\n",
    "class Coche(Vehiculo):\n",
    "    def __init__(self, marca, modelo, puertas):\n",
    "        super().__init__(marca, modelo)\n",
    "        self.puertas = puertas\n",
    "\n",
    "    def acelerar(self):\n",
    "        print(f\"El coche {self.modelo} de {self.marca} acelera\")\n",
    "\n",
    "coche = Coche(\"Ford\", \"Focus\", 5)\n",
    "coche.acelerar()  # Output: El coche Focus de Ford acelera"
   ]
  },
  {
   "cell_type": "code",
   "execution_count": null,
   "metadata": {},
   "outputs": [],
   "source": [
    "# Un ejemplo con herencia multiple\n",
    "# Definimos las clases padres\n",
    "class Animal():\n",
    "    def __init__(self, nombre):\n",
    "        self.nombre = nombre\n",
    "\n",
    "    def sonido(self):\n",
    "        print(\"El animal hace un sonido\")\n",
    "\n",
    "class Volador():\n",
    "    def __init__(self, altitud_maxima):\n",
    "        self.altitud_maxima = altitud_maxima\n",
    "\n",
    "    def volar(self):\n",
    "        print(\"Estoy volando a una altitud de\", self.altitud_maxima)\n",
    "\n",
    "class Nadador():\n",
    "    def __init__(self, velocidad_nado):\n",
    "        self.velocidad_nado = velocidad_nado\n",
    "\n",
    "    def nadar(self):\n",
    "        print(\"Estoy nadando a una velocidad de\", self.velocidad_nado)\n",
    "\n",
    "###############################################################################\n",
    "# Definimos la clase hija que hereda de las tres clases padres\n",
    "class Pato(Animal, Volador, Nadador):\n",
    "    def __init__(self, nombre, altitud_maxima, velocidad_nado):\n",
    "        Animal.__init__(self, nombre)\n",
    "        Volador.__init__(self, altitud_maxima)\n",
    "        Nadador.__init__(self, velocidad_nado)\n",
    "\n",
    "# Creamos un objeto de la clase Pato\n",
    "mi_pato = Pato(\"Lucas\", 1000, 5)\n",
    "\n",
    "# Accedemos a los métodos de las clases padres\n",
    "mi_pato.sonido()  # imprime \"El animal hace un sonido\"\n",
    "mi_pato.volar()   # imprime \"Estoy volando a una altitud de 1000\"\n",
    "mi_pato.nadar()   # imprime \"Estoy nadando a una velocidad de 5\""
   ]
  },
  {
   "cell_type": "markdown",
   "metadata": {
    "id": "9SNgXLxnGKGB"
   },
   "source": [
    "## **MRO** Method resolution order\n",
    "En Python, MRO (Method Resolution Order) se refiere al orden en que se resuelve la búsqueda de un método o atributo en una clase o instancia. Es decir, cuando se llama a un método o se accede a un atributo en un objeto, Python sigue un orden específico para determinar qué método o atributo debe ser utilizado.\n",
    "\n",
    "El MRO es importante en Python porque permite que las clases hereden comportamientos de otras clases y que los objetos puedan tener atributos y métodos adicionales. El MRO se utiliza para resolver las siguientes situaciones:\n",
    "\n",
    "1. **Herencia múltiple**: Cuando una clase hereda de varias clases padre, el MRO determina el orden en que se buscan los métodos y atributos en cada clase padre.\n",
    "2. **Métodos y atributos ocultos**: Cuando una clase hija redefine un método o atributo de su clase padre, el MRO determina si el método o atributo oculto debe ser utilizado en su lugar.\n",
    "\n",
    "El MRO en Python se basa en el algoritmo de C3, que es un algoritmo de resolución de herencia múltiple. El algoritmo C3 funciona de la siguiente manera:\n",
    "\n",
    "1. **Comienza con la clase actual**: El MRO comienza con la clase actual que se está buscando.\n",
    "2. **Agrega las clases padre**: Se agregan las clases padre de la clase actual al orden de búsqueda. En el orden que aparecen en la declaracion.\n",
    "3. **Agrega las clases abuelas**: Se agregan las clases abuelas de las clases padre al orden de búsqueda.\n",
    "4. **Continúa hasta llegar a la clase object**: El MRO continúa agregando clases padre y abuelas hasta llegar a la clase `object`, que es la clase base de todas las clases en Python.\n",
    "\n",
    "El MRO se puede visualizar utilizando la función `mro()` de Python, que devuelve una lista con el orden de búsqueda de una clase. Por ejemplo:\n"
   ]
  },
  {
   "cell_type": "code",
   "execution_count": 1,
   "metadata": {},
   "outputs": [
    {
     "name": "stdout",
     "output_type": "stream",
     "text": [
      "[<class '__main__.D'>, <class '__main__.B'>, <class '__main__.C'>, <class '__main__.A'>, <class 'object'>]\n"
     ]
    }
   ],
   "source": [
    "class A():\n",
    "    def metodo(self):\n",
    "        print(\"A\")\n",
    "\n",
    "class B(A):\n",
    "    pass\n",
    "\n",
    "class C(A):\n",
    "    def metodo(self):\n",
    "        print(\"C\")\n",
    "\n",
    "class D(B, C):\n",
    "    pass\n",
    "\n",
    "print(D.mro())  "
   ]
  },
  {
   "cell_type": "markdown",
   "metadata": {},
   "source": [
    "En este ejemplo, la clase `D` hereda de las clases `B` y `C`, que a su vez heredan de la clase `A`. El MRO de la clase `D` es `<class '__main__.D'>, <class '__main__.B'>, <class '__main__.C'>, <class '__main__.A'>, <class 'object'>`, lo que significa que Python buscará los métodos y atributos en el siguiente orden: `D`, `B`, `C`, `A` y finalmente `object`."
   ]
  },
  {
   "cell_type": "markdown",
   "metadata": {
    "id": "9kOGAn-GTFyb"
   },
   "source": [
    "## Clases internas\n",
    "Una clase interna (también conocida como clase anidada o clase nested) es una clase que se define dentro de otra clase. La clase interna está contenida dentro de la clase externa y tiene acceso a sus atributos y métodos.\n",
    "\n",
    "La sintaxis para definir una clase interna en Python es la siguiente:\n",
    "```\n",
    "class ClaseExterna():\n",
    "    def __init__(self):\n",
    "        # ...\n",
    "\n",
    "    class ClaseInterna():\n",
    "        def __init__(self):\n",
    "            # ...\n",
    "```\n",
    "La clase interna `ClaseInterna` se define dentro de la clase externa `ClaseExterna`. La clase interna tiene su propio espacio de nombres y puede tener sus propios atributos y métodos.  \n",
    "\n",
    "Algunos ejemplos de clases internas en Python son:\n",
    "\n",
    "* Una clase `Vector` que tiene una clase interna `Componente` para representar los componentes del vector.\n",
    "* Una clase `Arbol` que tiene una clase interna `Nodo` para representar los nodos del árbol.\n",
    "* Una clase `Formulario` que tiene una clase interna `Campos` para representar los campos del formulario.\n",
    "\n",
    "Aquí hay un ejemplo más detallado:\n"
   ]
  },
  {
   "cell_type": "code",
   "execution_count": null,
   "metadata": {},
   "outputs": [],
   "source": [
    "class Banco:\n",
    "    def __init__(self, nombre):\n",
    "        self.nombre = nombre\n",
    "        self.cuentas = []\n",
    "\n",
    "    class Cuenta:\n",
    "        def __init__(self, numero, saldo):\n",
    "            self.numero = numero\n",
    "            self.saldo = saldo\n",
    "\n",
    "    def crear_cuenta(self, numero, saldo):\n",
    "        cuenta = self.Cuenta(numero, saldo)\n",
    "        self.cuentas.append(cuenta)\n",
    "        return cuenta\n",
    "\n",
    "banco = Banco(\"Banco Generoso\")\n",
    "cuenta1 = banco.crear_cuenta(1234, 1000)\n",
    "cuenta2 = banco.crear_cuenta(5678, 500)"
   ]
  },
  {
   "cell_type": "markdown",
   "metadata": {},
   "source": [
    "En este ejemplo, la clase `Banco` tiene una clase interna `Cuenta` que representa las cuentas del banco. La clase `Banco` tiene un método `crear_cuenta` que crea una instancia de la clase `Cuenta` y la agrega a la lista de cuentas del banco.  \n",
    "\n",
    "Otro uso de las clases internas es la de emplearlas como atributos de una clase. A esta variacion se la conoce como **clase interna compuesta** o **clase agregada**  \n",
    "En ese caso definimos una clase **externamente** a la principal y luego la incorporamos como un atributo."
   ]
  },
  {
   "cell_type": "code",
   "execution_count": null,
   "metadata": {},
   "outputs": [],
   "source": [
    "class Direccion():\n",
    "    def __init__(self, calle, altura, ciudad, pais):\n",
    "        self.calle = calle\n",
    "        self.altura = altura\n",
    "        self.ciudad = ciudad\n",
    "        self.pais = pais\n",
    "\n",
    "    def __str__(self):\n",
    "        return f\"{self.calle}, {self.altura}, {self.ciudad} {self.pais}\"\n",
    "\n",
    "class Persona():\n",
    "    def __init__(self, nombre, direccion):\n",
    "        self.nombre = nombre\n",
    "        self.direccion = direccion\n",
    "\n",
    "    def __str__(self):\n",
    "        return f\"{self.nombre} vive en {self.direccion}\""
   ]
  },
  {
   "cell_type": "markdown",
   "metadata": {},
   "source": [
    "\n",
    "En este ejemplo, la clase `Direccion` representa una dirección con atributos como calle, altura, ciudad y pais.\n",
    "\n",
    "La clase `Persona` tiene un atributo `direccion` que es una instancia de la clase `Direccion`. La clase `Persona` también tiene un atributo `nombre` que es una cadena que representa el nombre de la persona.\n",
    "\n",
    "Para crear una instancia de la clase `Persona`, necesitamos crear una instancia de la clase `Direccion` y pasarla como parámetro al constructor de la clase `Persona`:"
   ]
  },
  {
   "cell_type": "code",
   "execution_count": null,
   "metadata": {},
   "outputs": [],
   "source": [
    "una_direccion = Direccion(\"San Martin\", \"1283\", \"Adrogue\", \"Argentina\")\n",
    "una_persona = Persona(\"Juan Nadie\", una_direccion)\n",
    "\n",
    "print(una_persona)  # Output: Juan Nadie vive en San Martin, 1283, Adrogue, Argentina"
   ]
  },
  {
   "cell_type": "markdown",
   "metadata": {},
   "source": [
    "En este ejemplo, la clase `Persona` utiliza la clase `Direccion` como atributo para representar la dirección de la persona.\n",
    "\n",
    "Ventajas de utilizar clases como atributos:\n",
    "\n",
    "* Permite una mayor flexibilidad y modularidad en el diseño de la clase.\n",
    "* Facilita la reutilización de código.\n",
    "* Permite una mejor separación de concerns (separación de responsabilidades)."
   ]
  },
  {
   "cell_type": "markdown",
   "metadata": {},
   "source": [
    "## MetaClases\n",
    "### Object\n",
    "hasta ahora vimos que una clase hereda de otra y nunca nos preguntamos de donde sale esa primer clase.  \n",
    "En el enunciado de creacion de clases vemos que la clase *Padre* va entre los parentesis (como una especie de argumento...)  \n",
    "\n",
    "```\n",
    "# definicion de clase hija \n",
    "class Hija(Padre):\n",
    "    pass\n",
    "\n",
    "# definicion de clase padre\n",
    "class Padre():\n",
    "    pass\n",
    "```\n",
    "\n",
    "En realidad ahi siempre HAY un argumento, solo que es invisible.  \n",
    "En python todos los objetos heredan de **Object** que es la clase *Madre* de todas las demas.  \n",
    "Es por eso que cuando usamos la funcion **dir()** podemos ver que hay varios metodos y atributos que nunca definimos.  \n",
    "\n",
    "```\n",
    "# Creamos una clase vacia\n",
    "class Ejemplo():\n",
    "    pass\n",
    "\n",
    "\n",
    "# instanciamos y ejecutamos su funcion __dict__\n",
    "un_ejemplo = Ejemplo()\n",
    "dir(un_ejemplo)\n",
    "\n",
    "['__class__',\n",
    " '__delattr__',\n",
    " '__dict__',\n",
    " '__dir__',\n",
    " '__doc__',\n",
    " '__eq__',\n",
    " '__format__',\n",
    " '__ge__',\n",
    " '__getattribute__',\n",
    " '__getstate__',\n",
    " '__gt__',\n",
    " '__hash__',\n",
    " '__init__',\n",
    " '__init_subclass__',\n",
    " '__le__',\n",
    " '__lt__',\n",
    " '__module__',\n",
    " '__ne__',\n",
    " '__new__',\n",
    " '__reduce__',\n",
    " '__reduce_ex__',\n",
    " '__repr__',\n",
    " '__setattr__',\n",
    " '__sizeof__',\n",
    " '__str__',\n",
    " '__subclasshook__',\n",
    " '__weakref__']\n",
    "```\n",
    "Todos esos metodos y atributos nunca fueron codificados por nosotros y fueron heredados de la clase *Madre* **Object** que es provista por python.  \n",
    "Cuando creamos una clase nueva en realidad ejecutamos una funcion de Object que nos realiza todo el trabajo. \n",
    "Y esta posibilidad tambien esta disponible para que la podamos usar cuando querramos nosotros.  \n",
    "\n",
    "### Metaclases\n",
    "Esta posibilidad nos va permitir la creacion **dinamica** de clases. Es decir que podemos crear una clase nueva sin necesidad de definirla previamente en el codigo (lo que seria una creacion **estatica** de la clase)  \n",
    "Si bien no es algo comun y absolutamente necesario, es algo con lo que nos vamos a encontrar en la vida profesional.  \n",
    "La capacidad de crear clases parte de las **metaclases** que son clases cuya instancia es tambien una clase.  \n",
    "En python la metaclase por defecto es *type*  \n",
    "\n",
    "A *type()* normalmente lo usamos para verificar de que tipo es una variable.\n"
   ]
  },
  {
   "cell_type": "code",
   "execution_count": null,
   "metadata": {},
   "outputs": [],
   "source": [
    "# ejemplo de type como funcion\n",
    "nota_alumno = 7\n",
    "type(nota_alumno)\n",
    "\n",
    "int"
   ]
  },
  {
   "cell_type": "markdown",
   "metadata": {},
   "source": [
    "Pero tambien lo podemos usar para crear una clase.  \n",
    "La sintaxis es un poco distinta, para mostrar de que tipo es un objeto solo pasabamos a *type()* el objeto a analizar como un solo argumento.  \n",
    "Para la creacion de una nueva clase se pasan TRES argumentos: el nombre de la clase, una tupla con las clases padres y un diccionario con los atributos. Y la funcion retorna una clase."
   ]
  },
  {
   "cell_type": "code",
   "execution_count": null,
   "metadata": {},
   "outputs": [],
   "source": [
    "# No ejecutar!!!!!\n",
    "# Modelo de creacion de clases con metaclases\n",
    "Hijo = type(\"Hijo\", (Padre), {nombre:\"Luke\", edad:24})\n",
    "\n",
    "# Y esto es igual a \n",
    "class Hijo(Padre, Madre):\n",
    "    self.nombre = \"Luke\"\n",
    "    self.edad = 24"
   ]
  },
  {
   "cell_type": "markdown",
   "metadata": {},
   "source": [
    "\n",
    "Tambien se pueden crear metodos, pero puede llegar a ser un poco complicado y no es necesario explicarlo aqui.  \n",
    "Crear clases programaticamente es muy util cuando necesitamos clases que representen objetos que a priori no sabemos como van a estar formados. Por ejemplo cuando tenemos que representar a un dato provisto desde una fuente que no controlamos.  \n",
    "Hay frameworks de desarrollo web que emplean metaclases para crear los objetos que representan las tablas de las BBDD (modelos)  \n",
    "\n",
    "### Nota\n",
    "Los que conozcan otros lenguajes mas \"POO puros\" habran notado que **type** hace cosas distintas cuando tiene argumentos distintos (con un solo argumento devuelve el tipo del argumento y con tres devuelve una clase)  \n",
    "A esto se lo denomina **sobre-carga de metodos** Y es otro pilar de la programación orientada a objetos.\n",
    "Python no tiene nativamente esta posibilidad, asi que seguramente **type** chequea cuantos argumentos recibe y ejecuta distintos bloques de codigo en consecuencia.\n"
   ]
  },
  {
   "cell_type": "markdown",
   "metadata": {},
   "source": [
    "## Metodos magicos\n",
    "Los métodos mágicos (también conocidos como métodos especiales o dunder methods) son métodos especiales que se definen en una clase y que se utilizan para sobrecargar operaciones y comportamientos específicos.\n",
    "\n",
    "Estos métodos mágicos se caracterizan por tener un nombre que comienza y termina con doble underscore (`__`), como por ejemplo `__init__`, `__str__`, `__add__`, etc.\n",
    "\n",
    "Los métodos mágicos se utilizan para:\n",
    "\n",
    "* **Sobrecargar operaciones**: Permiten sobrecargar operaciones como suma, resta, multiplicación, etc. para que se comporten de manera específica con objetos de una clase determinada.\n",
    "* **Definir comportamientos**: Permiten definir comportamientos específicos para objetos de una clase determinada, como por ejemplo, cómo se representa un objeto como cadena o cómo se compara con otros objetos.\n",
    "* **Interactuar con el entorno**: Permiten interactuar con el entorno de Python, como por ejemplo, cómo se serializa un objeto o cómo se deserializa.\n",
    "\n",
    "Algunos ejemplos de métodos mágicos en Python son:\n",
    "\n",
    "* `__init__`: Se llama cuando se crea un objeto de la clase y se utiliza para inicializar sus atributos.\n",
    "* `__str__`: Se llama cuando se llama a la función `str()` sobre un objeto y se utiliza para returning una representación de cadena del objeto.\n",
    "* `__add__`: Se llama cuando se utiliza el operador `+` con objetos de la clase y se utiliza para sobrecargar la suma.\n",
    "* `__eq__`: Se llama cuando se utiliza el operador `==` con objetos de la clase y se utiliza para sobrecargar la comparación de igualdad.\n",
    "* `__len__`: Se llama cuando se utiliza la función `len()` sobre un objeto y se utiliza para returning el tamaño del objeto.\n",
    "* `__getitem__`: Se llama cuando se utiliza el operador `[]` con objetos de la clase y se utiliza para sobrecargar la indexación.\n",
    "* `__setitem__`: Se llama cuando se utiliza el operador `[]` con objetos de la clase y se utiliza para sobrecargar la asignación de valores.\n",
    "\n",
    "Aquí muestro un ejemplo de cómo se puede utilizar el método mágico `__str__` para definir cómo se representa un objeto como cadena:\n"
   ]
  },
  {
   "cell_type": "code",
   "execution_count": null,
   "metadata": {},
   "outputs": [],
   "source": [
    "class Persona():\n",
    "    def __init__(self, nombre, edad):\n",
    "        self.nombre = nombre\n",
    "        self.edad = edad\n",
    "\n",
    "    def __str__(self):\n",
    "        return f\"{self.nombre} tiene {self.edad} años\"\n",
    "\n",
    "persona = Persona(\"Juan\", 30)\n",
    "print(persona)  # Output: Juan tiene 30 años"
   ]
  },
  {
   "cell_type": "markdown",
   "metadata": {},
   "source": [
    "En este ejemplo, el método mágico `__str__` se utiliza para definir cómo se representa un objeto `Persona` como cadena. Cuando se llama a la función `print()` sobre un objeto `Persona`, se llama al método `__str__` para obtener la representación de cadena del objeto."
   ]
  },
  {
   "cell_type": "markdown",
   "metadata": {},
   "source": [
    "## Decoradores\n",
    "Los decoradores (decorators) son una forma de modificar o extender el comportamiento de una función o clase sin modificar su código fuente. \n",
    "Un decorador es una función que toma otra función como argumento y devuelve una nueva función que \"envuelve\" la original.\n",
    "\n",
    "La sintaxis básica de un decorador es la siguiente:\n",
    "```\n",
    "@decorador\n",
    "def funcion():\n",
    "    pass\n",
    "```\n",
    "Donde `decorador` es el nombre del decorador y `funcion` es la función que se va a decorar.\n",
    "\n",
    "Cuando se utiliza un decorador, Python llama a la función decoradora con la función original como argumento. La función decoradora devuelve una nueva función que se utiliza en lugar de la original.\n",
    "\n",
    "Los decoradores se utilizan comúnmente para:\n",
    "\n",
    "1. **Añadir funcionalidades**: Agregar funcionalidades adicionales a una función o clase sin modificar su código fuente.\n",
    "2. **Modificar el comportamiento**: Cambiar el comportamiento de una función o clase sin modificar su código fuente.\n",
    "3. **Validar entradas**: Validar las entradas de una función o clase antes de que se ejecute.\n",
    "4. **Registrar eventos**: Registrar eventos o acciones que ocurren en una función o clase.\n",
    "5. **Añadir metadata**: Agregar metadata a una función o clase, como por ejemplo, información de autoría o versiones.\n",
    "\n",
    "Es un esquema en donde una funcion a() recibe como argumento una funcion b() y devuelve una funcion c()   \n",
    "(Cosas que recien acabamos de ver que se puede hacer...)  \n",
    "Es como una formula matematica.\n",
    "$$ a(b())\\rightarrow c()$$\n",
    "  \n",
    "Nos tiene que quedar claro que trabajamos con TRES funciones.  \n",
    "Veamos con un ejemplo:  \n"
   ]
  },
  {
   "cell_type": "code",
   "execution_count": null,
   "metadata": {},
   "outputs": [],
   "source": [
    "# Funcion decoradora\n",
    "# ojo! Hay mucho comentario en este codigo...\n",
    "# La idea es usarlo como un template para decoradores\n",
    "def mi_decorador(func):  # Esto es a() func es b()\n",
    "    # si tenemos algun argumento, se lo pasamos a la funcion c() (o wrapper)\n",
    "    def wrapper(*args, **kwargs):  # Y esto es c()\n",
    "        print(\"Antes de ejecutar mi funcion\")\n",
    "        # guardamos la funcion func en una variable\n",
    "        resultado = func(*args, **kwargs)\n",
    "        print(\"Despues de ejecutar mi funcion\")\n",
    "        # retornamos la ejecucion de la funcion func\n",
    "        return resultado\n",
    "    # y retornamos la ejecucion del wrapper\n",
    "    return wrapper  # aca retornamos c()\n",
    "\n",
    "# ahora aplicamos el decorador a mi_funcion\n",
    "# en python es poniendo antes de la funcion un arroba y el nombre del decorador\n",
    "\n",
    "@mi_decorador\n",
    "def mi_funcion():\n",
    "    print(\"Esta es mi funcion\")\n",
    "\n",
    "\n",
    "# Y la ejecutamos\n",
    "mi_funcion()"
   ]
  },
  {
   "cell_type": "markdown",
   "metadata": {},
   "source": [
    "En este ejemplo, el decorador `mi_decorador` toma la función `mi_funcion` como argumento y devuelve una nueva función `wrapper`. La función `wrapper` llama a la función original `mi_funcion` y agrega algunas líneas de código antes y después de la llamada.\n",
    "\n",
    "La salida del ejemplo anterior sería:\n",
    "```\n",
    "Antes de ejecutar mi funcion\n",
    "Esta es mi funcion\n",
    "Despues de ejecutar mi funcion\n",
    "```\n",
    "\n",
    "Se puede dar el caso que haya mas de un decorador para una ffuncion o metodo.  \n",
    "```\n",
    "@decorador_a\n",
    "@decorador_b\n",
    "funcion()\n",
    "```\n",
    "En este caso **siempre** se aplica primero el segundo decorador (decorador_b)  \n",
    "decorador_a envuelve a decorador_b y este envuelve a la funcion\n",
    "\n",
    "Los decoradores son una herramienta poderosa en Python que permiten modificar y extender el comportamiento de las funciones y clases de manera flexible y elegante."
   ]
  }
 ],
 "metadata": {
  "colab": {
   "provenance": []
  },
  "kernelspec": {
   "display_name": "Python 3 (ipykernel)",
   "language": "python",
   "name": "python3"
  },
  "language_info": {
   "codemirror_mode": {
    "name": "ipython",
    "version": 3
   },
   "file_extension": ".py",
   "mimetype": "text/x-python",
   "name": "python",
   "nbconvert_exporter": "python",
   "pygments_lexer": "ipython3",
   "version": "3.10.14"
  }
 },
 "nbformat": 4,
 "nbformat_minor": 4
}
